{
  "cells": [
    {
      "cell_type": "code",
      "execution_count": 1,
      "metadata": {
        "colab": {
          "base_uri": "https://localhost:8080/"
        },
        "id": "Dk-gYWuhzKMC",
        "outputId": "11b835cf-dadb-4555-f156-a338c43ece4e"
      },
      "outputs": [
        {
          "output_type": "stream",
          "name": "stdout",
          "text": [
            "Cloning into 'bike_counters'...\n",
            "remote: Enumerating objects: 107, done.\u001b[K\n",
            "remote: Counting objects: 100% (50/50), done.\u001b[K\n",
            "remote: Compressing objects: 100% (16/16), done.\u001b[K\n",
            "remote: Total 107 (delta 35), reused 36 (delta 34), pack-reused 57 (from 1)\u001b[K\n",
            "Receiving objects: 100% (107/107), 1.44 MiB | 5.96 MiB/s, done.\n",
            "Resolving deltas: 100% (43/43), done.\n"
          ]
        }
      ],
      "source": [
        "!git clone https://github.com/gauthiercaceres/bike_counters.git"
      ]
    },
    {
      "cell_type": "code",
      "execution_count": 2,
      "metadata": {
        "colab": {
          "base_uri": "https://localhost:8080/"
        },
        "id": "x38PO_v50G05",
        "outputId": "18d60329-cb60-4213-9910-fd5c2138a177"
      },
      "outputs": [
        {
          "output_type": "stream",
          "name": "stdout",
          "text": [
            "/content/bike_counters\n"
          ]
        }
      ],
      "source": [
        "%cd bike_counters"
      ]
    },
    {
      "cell_type": "markdown",
      "metadata": {
        "id": "_GJ6JW82S3sk"
      },
      "source": [
        "importing libraries"
      ]
    },
    {
      "cell_type": "code",
      "execution_count": 70,
      "metadata": {
        "id": "YuddWc9X0MKv"
      },
      "outputs": [],
      "source": [
        "# Scikit-learn imports\n",
        "from sklearn.model_selection import train_test_split, cross_val_score, GridSearchCV\n",
        "from sklearn.preprocessing import StandardScaler, OneHotEncoder, PolynomialFeatures\n",
        "from sklearn.compose import ColumnTransformer\n",
        "from sklearn.pipeline import Pipeline\n",
        "from sklearn.impute import SimpleImputer\n",
        "from sklearn.metrics import mean_squared_error, mean_absolute_error, r2_score\n",
        "\n",
        "# Advanced ensemble methods\n",
        "from sklearn.ensemble import (\n",
        "    RandomForestRegressor,\n",
        "    GradientBoostingRegressor,\n",
        "    StackingRegressor,\n",
        "    ExtraTreesRegressor\n",
        ")\n",
        "from sklearn.linear_model import Ridge, Lasso, ElasticNet\n",
        "from xgboost import XGBRegressor\n",
        "from lightgbm import LGBMRegressor\n",
        "import pandas as pd\n",
        "import numpy as np\n",
        "from pathlib import Path\n",
        "import warnings\n",
        "import gc  # Garbage collection\n",
        "import importlib\n",
        "\n",
        "warnings.filterwarnings('ignore')\n",
        "\n",
        "# Data handling and ML libraries\n",
        "import matplotlib.pyplot as plt\n",
        "from sklearn.model_selection import train_test_split\n",
        "from sklearn.preprocessing import StandardScaler, OneHotEncoder\n",
        "from sklearn.compose import ColumnTransformer\n",
        "from sklearn.pipeline import Pipeline\n",
        "from sklearn.impute import SimpleImputer\n",
        "from sklearn.metrics import mean_squared_error, mean_absolute_error, r2_score\n",
        "from sklearn.ensemble import StackingRegressor\n",
        "from xgboost import XGBRegressor\n",
        "from lightgbm import LGBMRegressor\n",
        "from sklearn.ensemble import (\n",
        "    RandomForestRegressor,\n",
        "    GradientBoostingRegressor,\n",
        "    StackingRegressor,\n",
        "    ExtraTreesRegressor\n",
        ")\n",
        "import external_data.example_estimator  # For external data processing\n",
        "importlib.reload(external_data.example_estimator)\n",
        "import pandas as pd\n",
        "import numpy as np\n",
        "import seaborn as sns\n",
        "import matplotlib.pyplot as plt\n",
        "import statsmodels.api as sm\n",
        "from datetime import datetime, date\n",
        "from sklearn.preprocessing import StandardScaler\n",
        "from sklearn.decomposition import PCA\n",
        "from sklearn.model_selection import train_test_split, RandomizedSearchCV\n",
        "from sklearn.metrics import r2_score, mean_squared_log_error\n",
        "from sklearn.linear_model import LinearRegression, Lasso, Ridge\n",
        "from sklearn.tree import DecisionTreeRegressor\n",
        "from sklearn.ensemble import RandomForestRegressor, AdaBoostRegressor, GradientBoostingRegressor\n",
        "from sklearn.neighbors import KNeighborsRegressor\n",
        "from sklearn.svm import SVR\n",
        "from xgboost import XGBRegressor\n",
        "%matplotlib inline\n",
        "pd.pandas.set_option('display.max_columns', None)"
      ]
    },
    {
      "cell_type": "markdown",
      "metadata": {
        "id": "PsoY9V4YS59l"
      },
      "source": [
        "merging with ext data"
      ]
    },
    {
      "cell_type": "code",
      "execution_count": 75,
      "metadata": {
        "colab": {
          "base_uri": "https://localhost:8080/"
        },
        "id": "eiU62gFw0Mw1",
        "outputId": "371cf9aa-d29a-4c67-db17-b32eb40b6ca1"
      },
      "outputs": [
        {
          "output_type": "stream",
          "name": "stdout",
          "text": [
            "Index(['counter_id', 'counter_name', 'site_id', 'site_name', 'bike_count',\n",
            "       'date', 'counter_installation_date', 'coordinates',\n",
            "       'counter_technical_id', 'latitude', 'longitude', 'log_bike_count'],\n",
            "      dtype='object')\n"
          ]
        }
      ],
      "source": [
        "data_path='data/train.parquet'\n",
        "test_path='data/final_test.parquet'\n",
        "train_data = pd.read_parquet(Path(data_path))\n",
        "print(train_data.columns)\n",
        "test_data = pd.read_parquet(Path(test_path))\n",
        "\n"
      ]
    },
    {
      "cell_type": "code",
      "execution_count": 76,
      "metadata": {
        "id": "jll1jTRAS8ZT"
      },
      "outputs": [],
      "source": [
        "train_data = external_data.example_estimator._encode_dates(train_data)"
      ]
    },
    {
      "cell_type": "code",
      "source": [
        "train_data.head(4)"
      ],
      "metadata": {
        "colab": {
          "base_uri": "https://localhost:8080/",
          "height": 329
        },
        "id": "cneML2ftS1UZ",
        "outputId": "fc830411-2dec-4e1b-cb9b-a15efaa59af8"
      },
      "execution_count": 73,
      "outputs": [
        {
          "output_type": "execute_result",
          "data": {
            "text/plain": [
              "                counter_id              counter_name    site_id  \\\n",
              "48321  100007049-102007049  28 boulevard Diderot E-O  100007049   \n",
              "48324  100007049-102007049  28 boulevard Diderot E-O  100007049   \n",
              "48327  100007049-102007049  28 boulevard Diderot E-O  100007049   \n",
              "48330  100007049-102007049  28 boulevard Diderot E-O  100007049   \n",
              "\n",
              "                  site_name  bike_count                date  \\\n",
              "48321  28 boulevard Diderot         0.0 2020-09-01 02:00:00   \n",
              "48324  28 boulevard Diderot         1.0 2020-09-01 03:00:00   \n",
              "48327  28 boulevard Diderot         0.0 2020-09-01 04:00:00   \n",
              "48330  28 boulevard Diderot         4.0 2020-09-01 15:00:00   \n",
              "\n",
              "      counter_installation_date         coordinates counter_technical_id  \\\n",
              "48321                2013-01-18  48.846028,2.375429          Y2H15027244   \n",
              "48324                2013-01-18  48.846028,2.375429          Y2H15027244   \n",
              "48327                2013-01-18  48.846028,2.375429          Y2H15027244   \n",
              "48330                2013-01-18  48.846028,2.375429          Y2H15027244   \n",
              "\n",
              "        latitude  longitude  log_bike_count  year  month  day  weekday  hour  \\\n",
              "48321  48.846028   2.375429        0.000000  2020      9    1        1     2   \n",
              "48324  48.846028   2.375429        0.693147  2020      9    1        1     3   \n",
              "48327  48.846028   2.375429        0.000000  2020      9    1        1     4   \n",
              "48330  48.846028   2.375429        1.609438  2020      9    1        1    15   \n",
              "\n",
              "       holiday  week_of_month  workday  season  \n",
              "48321        0              1        1       3  \n",
              "48324        0              1        1       3  \n",
              "48327        0              1        1       3  \n",
              "48330        0              1        1       3  "
            ],
            "text/html": [
              "\n",
              "  <div id=\"df-145868cc-1581-46fd-93ee-d0fbaffa5cb4\" class=\"colab-df-container\">\n",
              "    <div>\n",
              "<style scoped>\n",
              "    .dataframe tbody tr th:only-of-type {\n",
              "        vertical-align: middle;\n",
              "    }\n",
              "\n",
              "    .dataframe tbody tr th {\n",
              "        vertical-align: top;\n",
              "    }\n",
              "\n",
              "    .dataframe thead th {\n",
              "        text-align: right;\n",
              "    }\n",
              "</style>\n",
              "<table border=\"1\" class=\"dataframe\">\n",
              "  <thead>\n",
              "    <tr style=\"text-align: right;\">\n",
              "      <th></th>\n",
              "      <th>counter_id</th>\n",
              "      <th>counter_name</th>\n",
              "      <th>site_id</th>\n",
              "      <th>site_name</th>\n",
              "      <th>bike_count</th>\n",
              "      <th>date</th>\n",
              "      <th>counter_installation_date</th>\n",
              "      <th>coordinates</th>\n",
              "      <th>counter_technical_id</th>\n",
              "      <th>latitude</th>\n",
              "      <th>longitude</th>\n",
              "      <th>log_bike_count</th>\n",
              "      <th>year</th>\n",
              "      <th>month</th>\n",
              "      <th>day</th>\n",
              "      <th>weekday</th>\n",
              "      <th>hour</th>\n",
              "      <th>holiday</th>\n",
              "      <th>week_of_month</th>\n",
              "      <th>workday</th>\n",
              "      <th>season</th>\n",
              "    </tr>\n",
              "  </thead>\n",
              "  <tbody>\n",
              "    <tr>\n",
              "      <th>48321</th>\n",
              "      <td>100007049-102007049</td>\n",
              "      <td>28 boulevard Diderot E-O</td>\n",
              "      <td>100007049</td>\n",
              "      <td>28 boulevard Diderot</td>\n",
              "      <td>0.0</td>\n",
              "      <td>2020-09-01 02:00:00</td>\n",
              "      <td>2013-01-18</td>\n",
              "      <td>48.846028,2.375429</td>\n",
              "      <td>Y2H15027244</td>\n",
              "      <td>48.846028</td>\n",
              "      <td>2.375429</td>\n",
              "      <td>0.000000</td>\n",
              "      <td>2020</td>\n",
              "      <td>9</td>\n",
              "      <td>1</td>\n",
              "      <td>1</td>\n",
              "      <td>2</td>\n",
              "      <td>0</td>\n",
              "      <td>1</td>\n",
              "      <td>1</td>\n",
              "      <td>3</td>\n",
              "    </tr>\n",
              "    <tr>\n",
              "      <th>48324</th>\n",
              "      <td>100007049-102007049</td>\n",
              "      <td>28 boulevard Diderot E-O</td>\n",
              "      <td>100007049</td>\n",
              "      <td>28 boulevard Diderot</td>\n",
              "      <td>1.0</td>\n",
              "      <td>2020-09-01 03:00:00</td>\n",
              "      <td>2013-01-18</td>\n",
              "      <td>48.846028,2.375429</td>\n",
              "      <td>Y2H15027244</td>\n",
              "      <td>48.846028</td>\n",
              "      <td>2.375429</td>\n",
              "      <td>0.693147</td>\n",
              "      <td>2020</td>\n",
              "      <td>9</td>\n",
              "      <td>1</td>\n",
              "      <td>1</td>\n",
              "      <td>3</td>\n",
              "      <td>0</td>\n",
              "      <td>1</td>\n",
              "      <td>1</td>\n",
              "      <td>3</td>\n",
              "    </tr>\n",
              "    <tr>\n",
              "      <th>48327</th>\n",
              "      <td>100007049-102007049</td>\n",
              "      <td>28 boulevard Diderot E-O</td>\n",
              "      <td>100007049</td>\n",
              "      <td>28 boulevard Diderot</td>\n",
              "      <td>0.0</td>\n",
              "      <td>2020-09-01 04:00:00</td>\n",
              "      <td>2013-01-18</td>\n",
              "      <td>48.846028,2.375429</td>\n",
              "      <td>Y2H15027244</td>\n",
              "      <td>48.846028</td>\n",
              "      <td>2.375429</td>\n",
              "      <td>0.000000</td>\n",
              "      <td>2020</td>\n",
              "      <td>9</td>\n",
              "      <td>1</td>\n",
              "      <td>1</td>\n",
              "      <td>4</td>\n",
              "      <td>0</td>\n",
              "      <td>1</td>\n",
              "      <td>1</td>\n",
              "      <td>3</td>\n",
              "    </tr>\n",
              "    <tr>\n",
              "      <th>48330</th>\n",
              "      <td>100007049-102007049</td>\n",
              "      <td>28 boulevard Diderot E-O</td>\n",
              "      <td>100007049</td>\n",
              "      <td>28 boulevard Diderot</td>\n",
              "      <td>4.0</td>\n",
              "      <td>2020-09-01 15:00:00</td>\n",
              "      <td>2013-01-18</td>\n",
              "      <td>48.846028,2.375429</td>\n",
              "      <td>Y2H15027244</td>\n",
              "      <td>48.846028</td>\n",
              "      <td>2.375429</td>\n",
              "      <td>1.609438</td>\n",
              "      <td>2020</td>\n",
              "      <td>9</td>\n",
              "      <td>1</td>\n",
              "      <td>1</td>\n",
              "      <td>15</td>\n",
              "      <td>0</td>\n",
              "      <td>1</td>\n",
              "      <td>1</td>\n",
              "      <td>3</td>\n",
              "    </tr>\n",
              "  </tbody>\n",
              "</table>\n",
              "</div>\n",
              "    <div class=\"colab-df-buttons\">\n",
              "\n",
              "  <div class=\"colab-df-container\">\n",
              "    <button class=\"colab-df-convert\" onclick=\"convertToInteractive('df-145868cc-1581-46fd-93ee-d0fbaffa5cb4')\"\n",
              "            title=\"Convert this dataframe to an interactive table.\"\n",
              "            style=\"display:none;\">\n",
              "\n",
              "  <svg xmlns=\"http://www.w3.org/2000/svg\" height=\"24px\" viewBox=\"0 -960 960 960\">\n",
              "    <path d=\"M120-120v-720h720v720H120Zm60-500h600v-160H180v160Zm220 220h160v-160H400v160Zm0 220h160v-160H400v160ZM180-400h160v-160H180v160Zm440 0h160v-160H620v160ZM180-180h160v-160H180v160Zm440 0h160v-160H620v160Z\"/>\n",
              "  </svg>\n",
              "    </button>\n",
              "\n",
              "  <style>\n",
              "    .colab-df-container {\n",
              "      display:flex;\n",
              "      gap: 12px;\n",
              "    }\n",
              "\n",
              "    .colab-df-convert {\n",
              "      background-color: #E8F0FE;\n",
              "      border: none;\n",
              "      border-radius: 50%;\n",
              "      cursor: pointer;\n",
              "      display: none;\n",
              "      fill: #1967D2;\n",
              "      height: 32px;\n",
              "      padding: 0 0 0 0;\n",
              "      width: 32px;\n",
              "    }\n",
              "\n",
              "    .colab-df-convert:hover {\n",
              "      background-color: #E2EBFA;\n",
              "      box-shadow: 0px 1px 2px rgba(60, 64, 67, 0.3), 0px 1px 3px 1px rgba(60, 64, 67, 0.15);\n",
              "      fill: #174EA6;\n",
              "    }\n",
              "\n",
              "    .colab-df-buttons div {\n",
              "      margin-bottom: 4px;\n",
              "    }\n",
              "\n",
              "    [theme=dark] .colab-df-convert {\n",
              "      background-color: #3B4455;\n",
              "      fill: #D2E3FC;\n",
              "    }\n",
              "\n",
              "    [theme=dark] .colab-df-convert:hover {\n",
              "      background-color: #434B5C;\n",
              "      box-shadow: 0px 1px 3px 1px rgba(0, 0, 0, 0.15);\n",
              "      filter: drop-shadow(0px 1px 2px rgba(0, 0, 0, 0.3));\n",
              "      fill: #FFFFFF;\n",
              "    }\n",
              "  </style>\n",
              "\n",
              "    <script>\n",
              "      const buttonEl =\n",
              "        document.querySelector('#df-145868cc-1581-46fd-93ee-d0fbaffa5cb4 button.colab-df-convert');\n",
              "      buttonEl.style.display =\n",
              "        google.colab.kernel.accessAllowed ? 'block' : 'none';\n",
              "\n",
              "      async function convertToInteractive(key) {\n",
              "        const element = document.querySelector('#df-145868cc-1581-46fd-93ee-d0fbaffa5cb4');\n",
              "        const dataTable =\n",
              "          await google.colab.kernel.invokeFunction('convertToInteractive',\n",
              "                                                    [key], {});\n",
              "        if (!dataTable) return;\n",
              "\n",
              "        const docLinkHtml = 'Like what you see? Visit the ' +\n",
              "          '<a target=\"_blank\" href=https://colab.research.google.com/notebooks/data_table.ipynb>data table notebook</a>'\n",
              "          + ' to learn more about interactive tables.';\n",
              "        element.innerHTML = '';\n",
              "        dataTable['output_type'] = 'display_data';\n",
              "        await google.colab.output.renderOutput(dataTable, element);\n",
              "        const docLink = document.createElement('div');\n",
              "        docLink.innerHTML = docLinkHtml;\n",
              "        element.appendChild(docLink);\n",
              "      }\n",
              "    </script>\n",
              "  </div>\n",
              "\n",
              "\n",
              "<div id=\"df-5ef913be-4de4-495e-8227-df56dd02f887\">\n",
              "  <button class=\"colab-df-quickchart\" onclick=\"quickchart('df-5ef913be-4de4-495e-8227-df56dd02f887')\"\n",
              "            title=\"Suggest charts\"\n",
              "            style=\"display:none;\">\n",
              "\n",
              "<svg xmlns=\"http://www.w3.org/2000/svg\" height=\"24px\"viewBox=\"0 0 24 24\"\n",
              "     width=\"24px\">\n",
              "    <g>\n",
              "        <path d=\"M19 3H5c-1.1 0-2 .9-2 2v14c0 1.1.9 2 2 2h14c1.1 0 2-.9 2-2V5c0-1.1-.9-2-2-2zM9 17H7v-7h2v7zm4 0h-2V7h2v10zm4 0h-2v-4h2v4z\"/>\n",
              "    </g>\n",
              "</svg>\n",
              "  </button>\n",
              "\n",
              "<style>\n",
              "  .colab-df-quickchart {\n",
              "      --bg-color: #E8F0FE;\n",
              "      --fill-color: #1967D2;\n",
              "      --hover-bg-color: #E2EBFA;\n",
              "      --hover-fill-color: #174EA6;\n",
              "      --disabled-fill-color: #AAA;\n",
              "      --disabled-bg-color: #DDD;\n",
              "  }\n",
              "\n",
              "  [theme=dark] .colab-df-quickchart {\n",
              "      --bg-color: #3B4455;\n",
              "      --fill-color: #D2E3FC;\n",
              "      --hover-bg-color: #434B5C;\n",
              "      --hover-fill-color: #FFFFFF;\n",
              "      --disabled-bg-color: #3B4455;\n",
              "      --disabled-fill-color: #666;\n",
              "  }\n",
              "\n",
              "  .colab-df-quickchart {\n",
              "    background-color: var(--bg-color);\n",
              "    border: none;\n",
              "    border-radius: 50%;\n",
              "    cursor: pointer;\n",
              "    display: none;\n",
              "    fill: var(--fill-color);\n",
              "    height: 32px;\n",
              "    padding: 0;\n",
              "    width: 32px;\n",
              "  }\n",
              "\n",
              "  .colab-df-quickchart:hover {\n",
              "    background-color: var(--hover-bg-color);\n",
              "    box-shadow: 0 1px 2px rgba(60, 64, 67, 0.3), 0 1px 3px 1px rgba(60, 64, 67, 0.15);\n",
              "    fill: var(--button-hover-fill-color);\n",
              "  }\n",
              "\n",
              "  .colab-df-quickchart-complete:disabled,\n",
              "  .colab-df-quickchart-complete:disabled:hover {\n",
              "    background-color: var(--disabled-bg-color);\n",
              "    fill: var(--disabled-fill-color);\n",
              "    box-shadow: none;\n",
              "  }\n",
              "\n",
              "  .colab-df-spinner {\n",
              "    border: 2px solid var(--fill-color);\n",
              "    border-color: transparent;\n",
              "    border-bottom-color: var(--fill-color);\n",
              "    animation:\n",
              "      spin 1s steps(1) infinite;\n",
              "  }\n",
              "\n",
              "  @keyframes spin {\n",
              "    0% {\n",
              "      border-color: transparent;\n",
              "      border-bottom-color: var(--fill-color);\n",
              "      border-left-color: var(--fill-color);\n",
              "    }\n",
              "    20% {\n",
              "      border-color: transparent;\n",
              "      border-left-color: var(--fill-color);\n",
              "      border-top-color: var(--fill-color);\n",
              "    }\n",
              "    30% {\n",
              "      border-color: transparent;\n",
              "      border-left-color: var(--fill-color);\n",
              "      border-top-color: var(--fill-color);\n",
              "      border-right-color: var(--fill-color);\n",
              "    }\n",
              "    40% {\n",
              "      border-color: transparent;\n",
              "      border-right-color: var(--fill-color);\n",
              "      border-top-color: var(--fill-color);\n",
              "    }\n",
              "    60% {\n",
              "      border-color: transparent;\n",
              "      border-right-color: var(--fill-color);\n",
              "    }\n",
              "    80% {\n",
              "      border-color: transparent;\n",
              "      border-right-color: var(--fill-color);\n",
              "      border-bottom-color: var(--fill-color);\n",
              "    }\n",
              "    90% {\n",
              "      border-color: transparent;\n",
              "      border-bottom-color: var(--fill-color);\n",
              "    }\n",
              "  }\n",
              "</style>\n",
              "\n",
              "  <script>\n",
              "    async function quickchart(key) {\n",
              "      const quickchartButtonEl =\n",
              "        document.querySelector('#' + key + ' button');\n",
              "      quickchartButtonEl.disabled = true;  // To prevent multiple clicks.\n",
              "      quickchartButtonEl.classList.add('colab-df-spinner');\n",
              "      try {\n",
              "        const charts = await google.colab.kernel.invokeFunction(\n",
              "            'suggestCharts', [key], {});\n",
              "      } catch (error) {\n",
              "        console.error('Error during call to suggestCharts:', error);\n",
              "      }\n",
              "      quickchartButtonEl.classList.remove('colab-df-spinner');\n",
              "      quickchartButtonEl.classList.add('colab-df-quickchart-complete');\n",
              "    }\n",
              "    (() => {\n",
              "      let quickchartButtonEl =\n",
              "        document.querySelector('#df-5ef913be-4de4-495e-8227-df56dd02f887 button');\n",
              "      quickchartButtonEl.style.display =\n",
              "        google.colab.kernel.accessAllowed ? 'block' : 'none';\n",
              "    })();\n",
              "  </script>\n",
              "</div>\n",
              "\n",
              "    </div>\n",
              "  </div>\n"
            ],
            "application/vnd.google.colaboratory.intrinsic+json": {
              "type": "dataframe",
              "variable_name": "train_data"
            }
          },
          "metadata": {},
          "execution_count": 73
        }
      ]
    },
    {
      "cell_type": "code",
      "source": [
        "train_data = external_data.example_estimator._merge_external_data(train_data)\n"
      ],
      "metadata": {
        "id": "DNCcp0COS0UX"
      },
      "execution_count": 77,
      "outputs": []
    },
    {
      "cell_type": "code",
      "source": [
        "train_data.columns"
      ],
      "metadata": {
        "colab": {
          "base_uri": "https://localhost:8080/"
        },
        "id": "FjU3xYR-T1QO",
        "outputId": "cfd2387d-8002-41fe-9c47-fece7502867f"
      },
      "execution_count": 78,
      "outputs": [
        {
          "output_type": "execute_result",
          "data": {
            "text/plain": [
              "Index(['counter_id', 'counter_name', 'site_id', 'site_name', 'bike_count',\n",
              "       'date', 'counter_installation_date', 'coordinates',\n",
              "       'counter_technical_id', 'latitude', 'longitude', 'log_bike_count',\n",
              "       'year', 'month', 'day', 'weekday', 'hour', 'holiday', 'week_of_month',\n",
              "       'workday', 'season', 'numer_sta', 'pmer', 'tend', 'cod_tend', 'dd',\n",
              "       'ff', 't', 'td', 'u', 'vv', 'ww', 'w1', 'w2', 'n', 'nbas', 'hbas', 'cl',\n",
              "       'cm', 'ch', 'pres', 'niv_bar', 'geop', 'tend24', 'tn12', 'tn24', 'tx12',\n",
              "       'tx24', 'tminsol', 'sw', 'tw', 'raf10', 'rafper', 'per', 'etat_sol',\n",
              "       'ht_neige', 'ssfrai', 'perssfrai', 'rr1', 'rr3', 'rr6', 'rr12', 'rr24',\n",
              "       'phenspe1', 'phenspe2', 'phenspe3', 'phenspe4', 'nnuage1', 'ctype1',\n",
              "       'hnuage1', 'nnuage2', 'ctype2', 'hnuage2', 'nnuage3', 'ctype3',\n",
              "       'hnuage3', 'nnuage4', 'ctype4', 'hnuage4'],\n",
              "      dtype='object')"
            ]
          },
          "metadata": {},
          "execution_count": 78
        }
      ]
    },
    {
      "cell_type": "code",
      "source": [
        "df =train_data"
      ],
      "metadata": {
        "id": "-yFrLr9qVPht"
      },
      "execution_count": 80,
      "outputs": []
    },
    {
      "cell_type": "code",
      "source": [
        "import pandas as pd\n",
        "\n",
        "# Feature Engineering Example\n",
        "df['is_weekend'] = df['weekday'].isin([5, 6]).astype(int)\n",
        "df['day_period'] = pd.cut(df['hour'], bins=[0, 6, 12, 18, 24], labels=['Night', 'Morning', 'Afternoon', 'Evening'])\n",
        "df['installation_age_days'] = (pd.to_datetime(df['date']) - pd.to_datetime(df['counter_installation_date'])).dt.days\n",
        "\n",
        "# Dropping Less Relevant Features\n",
        "df = df.drop(columns=['counter_name', 'site_name', 'week_of_month'])\n",
        "from geopy.distance import distance\n",
        "\n",
        "# Coordinates of Paris city center\n",
        "city_center = (48.8566, 2.3522)\n",
        "\n",
        "# Add a new column 'distance_to_center' to the DataFrame\n",
        "df['distance_to_center'] = df.apply(\n",
        "    lambda row: distance(city_center, (row['latitude'], row['longitude'])).km,\n",
        "    axis=1\n",
        ")\n",
        "from sklearn.cluster import KMeans\n",
        "kmeans = KMeans(n_clusters=2)\n",
        "df['location_type'] = kmeans.fit_predict(df[['latitude', 'longitude']])\n",
        "df['is_rainy'] = (df['rr1'] > 0).astype(int)\n",
        "df['is_windy'] = (df['ff'] > 8).astype(int)\n",
        "df['low_visibility'] = (df['vv'] < 1000).astype(int)\n",
        "df['total_precipitation_24h'] = df[['rr1', 'rr3', 'rr6', 'rr12', 'rr24']].sum(axis=1)\n",
        "\n",
        "df['temperature_c'] = df['t'] - 273.15  # Kelvin to Celsius conversion\n",
        "df['is_hot'] = (df['temperature_c'] > 20).astype(int)  # Indicates hot weather\n",
        "df['is_cold'] = (df['temperature_c'] < 5).astype(int)   # Indicates cold weather\n",
        "df['is_snowy'] = (df['temperature_c'] < 0).astype(int)\n",
        "df['bad_weather'] = ((df['is_rainy'] == 1) | (df['is_snowy'] == 1) | (df['low_visibility'] == 1)).astype(int)\n",
        "\n",
        "\n"
      ],
      "metadata": {
        "id": "WFAMnjz3UOk1"
      },
      "execution_count": 81,
      "outputs": []
    },
    {
      "cell_type": "code",
      "source": [],
      "metadata": {
        "id": "mYxW_VO2VLo7"
      },
      "execution_count": 89,
      "outputs": []
    },
    {
      "cell_type": "code",
      "source": [],
      "metadata": {
        "id": "bYNXZFBOWYfE"
      },
      "execution_count": 90,
      "outputs": []
    },
    {
      "cell_type": "code",
      "source": [
        "selected_features = [\n",
        "    # Key Date and Time Features\n",
        "    'year', 'month', 'day', 'weekday', 'hour', 'holiday', 'workday', 'season',\n",
        "    'is_weekend', 'day_period', 'installation_age_days',\n",
        "\n",
        "    # Geospatial Information\n",
        "    'latitude', 'longitude', 'coordinates', 'distance_to_center', 'location_type',\n",
        "\n",
        "    # Weather-Related Features\n",
        "    'temperature_c', 'is_hot', 'is_cold', 'is_rainy', 'is_windy', 'low_visibility',\n",
        "    'total_precipitation_24h', 'bad_weather'\n",
        "]\n"
      ],
      "metadata": {
        "id": "cc_yxhO7XSCp"
      },
      "execution_count": 95,
      "outputs": []
    },
    {
      "cell_type": "code",
      "source": [
        "final_train_data = df.loc[:, selected_features + ['log_bike_count', 'bike_count']]\n"
      ],
      "metadata": {
        "id": "OUECHAq-XVGh"
      },
      "execution_count": 96,
      "outputs": []
    },
    {
      "cell_type": "code",
      "source": [
        "final_train_data.columns"
      ],
      "metadata": {
        "colab": {
          "base_uri": "https://localhost:8080/"
        },
        "id": "HtTk2OwHYQG3",
        "outputId": "a5dbc2f3-d0c6-41ac-d32c-ad328a1f91c8"
      },
      "execution_count": 97,
      "outputs": [
        {
          "output_type": "execute_result",
          "data": {
            "text/plain": [
              "Index(['year', 'month', 'day', 'weekday', 'hour', 'holiday', 'workday',\n",
              "       'season', 'is_weekend', 'day_period', 'installation_age_days',\n",
              "       'latitude', 'longitude', 'coordinates', 'distance_to_center',\n",
              "       'location_type', 'temperature_c', 'is_hot', 'is_cold', 'is_rainy',\n",
              "       'is_windy', 'low_visibility', 'total_precipitation_24h', 'bad_weather',\n",
              "       'log_bike_count', 'bike_count'],\n",
              "      dtype='object')"
            ]
          },
          "metadata": {},
          "execution_count": 97
        }
      ]
    },
    {
      "cell_type": "markdown",
      "metadata": {
        "id": "V3mXK1HSS8zH"
      },
      "source": [
        "handling missing vals"
      ]
    },
    {
      "cell_type": "code",
      "execution_count": 105,
      "metadata": {
        "colab": {
          "base_uri": "https://localhost:8080/"
        },
        "id": "F4t7AHnQ62AL",
        "outputId": "f5508b25-a9aa-478a-8213-2e623908d584"
      },
      "outputs": [
        {
          "output_type": "stream",
          "name": "stdout",
          "text": [
            "Number of columns with missing values: 1\n",
            "            missing_count\n",
            "day_period          20598\n"
          ]
        }
      ],
      "source": [
        "# Count the number of missing values in each column\n",
        "missing_values_train = pd.DataFrame(final_train_data.isna().sum(), columns=[\"missing_count\"])\n",
        "\n",
        "# Filter columns where missing values are greater than 0\n",
        "columns_with_missing_values = missing_values_train[missing_values_train[\"missing_count\"] > 0]\n",
        "\n",
        "# Get the count of columns with missing values\n",
        "num_columns_with_missing_values = columns_with_missing_values.shape[0]\n",
        "\n",
        "# Display the results\n",
        "print(f\"Number of columns with missing values: {num_columns_with_missing_values}\")\n",
        "print(columns_with_missing_values)\n",
        "\n"
      ]
    },
    {
      "cell_type": "markdown",
      "metadata": {
        "id": "JCS46NQHTAdK"
      },
      "source": [
        "dropping cols with >40% missing vals"
      ]
    },
    {
      "cell_type": "code",
      "execution_count": 106,
      "metadata": {
        "colab": {
          "base_uri": "https://localhost:8080/"
        },
        "id": "1x7Bs4cXAOC5",
        "outputId": "721d2ffb-4d8a-4c93-d5f9-099965d41d9e"
      },
      "outputs": [
        {
          "output_type": "stream",
          "name": "stdout",
          "text": [
            "Columns dropped: Index([], dtype='object')\n",
            "Updated DataFrame shape: (496827, 26)\n",
            "Missing values after dropping columns with > 40% NaN values:\n",
            "year                           0\n",
            "month                          0\n",
            "day                            0\n",
            "weekday                        0\n",
            "hour                           0\n",
            "holiday                        0\n",
            "workday                        0\n",
            "season                         0\n",
            "is_weekend                     0\n",
            "day_period                 20598\n",
            "installation_age_days          0\n",
            "latitude                       0\n",
            "longitude                      0\n",
            "coordinates                    0\n",
            "distance_to_center             0\n",
            "location_type                  0\n",
            "temperature_c                  0\n",
            "is_hot                         0\n",
            "is_cold                        0\n",
            "is_rainy                       0\n",
            "is_windy                       0\n",
            "low_visibility                 0\n",
            "total_precipitation_24h        0\n",
            "bad_weather                    0\n",
            "log_bike_count                 0\n",
            "bike_count                     0\n",
            "dtype: int64\n"
          ]
        }
      ],
      "source": [
        "# Calculate the percentage of missing values for each column\n",
        "missing_percentage = final_train_data.isna().mean() * 100\n",
        "\n",
        "# Identify columns with more than 40% missing values\n",
        "cols_to_drop = missing_percentage[missing_percentage > 40].index\n",
        "\n",
        "# Drop those columns from the DataFrame\n",
        "train_data_cleaned = final_train_data.drop(columns=cols_to_drop)\n",
        "\n",
        "# Check the shape of the updated DataFrame\n",
        "print(f\"Columns dropped: {cols_to_drop}\")\n",
        "print(f\"Updated DataFrame shape: {train_data_cleaned.shape}\")\n",
        "\n",
        "# Check the remaining missing values\n",
        "print(\"Missing values after dropping columns with > 40% NaN values:\")\n",
        "print(train_data_cleaned.isna().sum())\n"
      ]
    },
    {
      "cell_type": "code",
      "execution_count": 107,
      "metadata": {
        "colab": {
          "base_uri": "https://localhost:8080/"
        },
        "id": "j_5WFWsD7ZTV",
        "outputId": "f21cb4e1-fdfa-48ea-8bb2-b1fd267711e2"
      },
      "outputs": [
        {
          "output_type": "stream",
          "name": "stdout",
          "text": [
            "Missing values after handling:\n",
            "year                       0\n",
            "month                      0\n",
            "day                        0\n",
            "weekday                    0\n",
            "hour                       0\n",
            "holiday                    0\n",
            "workday                    0\n",
            "season                     0\n",
            "is_weekend                 0\n",
            "day_period                 0\n",
            "installation_age_days      0\n",
            "latitude                   0\n",
            "longitude                  0\n",
            "coordinates                0\n",
            "distance_to_center         0\n",
            "location_type              0\n",
            "temperature_c              0\n",
            "is_hot                     0\n",
            "is_cold                    0\n",
            "is_rainy                   0\n",
            "is_windy                   0\n",
            "low_visibility             0\n",
            "total_precipitation_24h    0\n",
            "bad_weather                0\n",
            "log_bike_count             0\n",
            "bike_count                 0\n",
            "dtype: int64\n"
          ]
        }
      ],
      "source": [
        "import numpy as np\n",
        "import pandas as pd\n",
        "\n",
        "# Function to handle missing values and infinities\n",
        "def handle_missing_and_infs(df):\n",
        "    for column in df.columns:\n",
        "        if df[column].dtype in ['float64', 'int64']:  # Numeric columns only\n",
        "            # Replace inf/-inf with NaN\n",
        "            df[column].replace([np.inf, -np.inf], np.nan, inplace=True)\n",
        "            # Fill NaN values with the mean\n",
        "            df[column].fillna(df[column].mean(), inplace=True)\n",
        "        else:  # Non-numeric columns\n",
        "            if df[column].isna().sum() > 0:  # Handle NaN for non-numeric\n",
        "                if df[column].dtype == 'object':\n",
        "                    df[column].fillna(df[column].mode()[0], inplace=True)  # Most frequent value\n",
        "                elif pd.api.types.is_categorical_dtype(df[column]):\n",
        "                    df[column].fillna(df[column].mode()[0], inplace=True)  # Mode for categorical\n",
        "    return df\n",
        "\n",
        "# Apply the function to the train_data\n",
        "train_data_cleaned = handle_missing_and_infs(train_data_cleaned)\n",
        "\n",
        "# Check if missing values and infinities are handled\n",
        "print(\"Missing values after handling:\")\n",
        "print(train_data_cleaned.isna().sum())\n"
      ]
    },
    {
      "cell_type": "code",
      "execution_count": 108,
      "metadata": {
        "colab": {
          "base_uri": "https://localhost:8080/"
        },
        "id": "pTjdIZD9_8eN",
        "outputId": "311d0194-2c3a-498c-bd52-ecb98269661b"
      },
      "outputs": [
        {
          "output_type": "stream",
          "name": "stdout",
          "text": [
            "Number of columns with missing values: 0\n",
            "Empty DataFrame\n",
            "Columns: [missing_count]\n",
            "Index: []\n"
          ]
        }
      ],
      "source": [
        "# Count the number of missing values in each column\n",
        "missing_values_train = pd.DataFrame(train_data_cleaned.isna().sum(), columns=[\"missing_count\"])\n",
        "\n",
        "# Filter columns where missing values are greater than 0\n",
        "columns_with_missing_values = missing_values_train[missing_values_train[\"missing_count\"] > 0]\n",
        "\n",
        "# Get the count of columns with missing values\n",
        "num_columns_with_missing_values = columns_with_missing_values.shape[0]\n",
        "\n",
        "# Display the results\n",
        "print(f\"Number of columns with missing values: {num_columns_with_missing_values}\")\n",
        "print(columns_with_missing_values)\n"
      ]
    },
    {
      "cell_type": "markdown",
      "metadata": {
        "id": "pV2hPJhGTEh2"
      },
      "source": [
        "encoding using label encoder"
      ]
    },
    {
      "cell_type": "code",
      "execution_count": 109,
      "metadata": {
        "colab": {
          "base_uri": "https://localhost:8080/"
        },
        "id": "bRsb5qZh8oMe",
        "outputId": "d563bda3-312e-4f5c-e3e0-0de706bb91ed"
      },
      "outputs": [
        {
          "output_type": "stream",
          "name": "stdout",
          "text": [
            "Encoding column 'day_period' with 4 unique categories.\n",
            "Encoding column 'coordinates' with 30 unique categories.\n",
            "Updated dataset:\n",
            "     year  month  day  weekday  hour  holiday  workday  season  is_weekend  \\\n",
            "107  2020      9    1        1     2        0        1       3           0   \n",
            "153  2020      9    1        1     3        0        1       3           0   \n",
            "201  2020      9    1        1     4        0        1       3           0   \n",
            "782  2020      9    1        1    15        0        1       3           0   \n",
            "925  2020      9    1        1    18        0        1       3           0   \n",
            "\n",
            "     day_period  installation_age_days   latitude  longitude  coordinates  \\\n",
            "107           3                   2783  48.846028   2.375429           10   \n",
            "153           3                   2783  48.846028   2.375429           10   \n",
            "201           3                   2783  48.846028   2.375429           10   \n",
            "782           0                   2783  48.846028   2.375429           10   \n",
            "925           0                   2783  48.846028   2.375429           10   \n",
            "\n",
            "     distance_to_center  location_type  temperature_c  is_hot  is_cold  \\\n",
            "107            2.070853              1           12.6       0        0   \n",
            "153            2.070853              1           10.8       0        0   \n",
            "201            2.070853              1           10.8       0        0   \n",
            "782            2.070853              1           20.5       1        0   \n",
            "925            2.070853              1           19.0       0        0   \n",
            "\n",
            "     is_rainy  is_windy  low_visibility  total_precipitation_24h  bad_weather  \\\n",
            "107         0         0               0                      0.0            0   \n",
            "153         0         0               0                      0.0            0   \n",
            "201         0         0               0                      0.0            0   \n",
            "782         0         0               0                      0.0            0   \n",
            "925         0         0               0                      0.0            0   \n",
            "\n",
            "     log_bike_count  bike_count  \n",
            "107        0.000000         0.0  \n",
            "153        0.693147         1.0  \n",
            "201        0.000000         0.0  \n",
            "782        1.609438         4.0  \n",
            "925        2.302585         9.0  \n"
          ]
        }
      ],
      "source": [
        "from sklearn.preprocessing import LabelEncoder\n",
        "import pickle  # To save encoders\n",
        "\n",
        "# Dictionary to save encoders for all categorical columns\n",
        "label_encoders = {}\n",
        "\n",
        "# Identify categorical columns\n",
        "categorical_cols = train_data_cleaned.select_dtypes(include=['object', 'category']).columns\n",
        "\n",
        "# Process each categorical column\n",
        "for col in categorical_cols:\n",
        "    unique_count = train_data_cleaned[col].nunique()\n",
        "\n",
        "    if unique_count > 50:\n",
        "        print(f\"Dropping column '{col}' with {unique_count} unique categories.\")\n",
        "        train_data_cleaned.drop(columns=[col], inplace=True)\n",
        "    else:\n",
        "        print(f\"Encoding column '{col}' with {unique_count} unique categories.\")\n",
        "        # Initialize label encoder\n",
        "        le = LabelEncoder()\n",
        "        # Fit and transform the column\n",
        "        train_data_cleaned[col] = le.fit_transform(train_data_cleaned[col].astype(str))\n",
        "        # Save the label encoder for future use\n",
        "        label_encoders[col] = le\n",
        "\n",
        "# Save the encoders dictionary to a file\n",
        "with open('label_encoders.pkl', 'wb') as f:\n",
        "    pickle.dump(label_encoders, f)\n",
        "\n",
        "# Check the updated dataset\n",
        "print(\"Updated dataset:\")\n",
        "print(train_data_cleaned.head())\n"
      ]
    },
    {
      "cell_type": "code",
      "execution_count": 110,
      "metadata": {
        "colab": {
          "base_uri": "https://localhost:8080/"
        },
        "id": "miyu_MBV-cHB",
        "outputId": "308eff61-fa66-4600-93f4-268011aba9eb"
      },
      "outputs": [
        {
          "output_type": "stream",
          "name": "stdout",
          "text": [
            "Number of columns with missing values: 0\n",
            "Empty DataFrame\n",
            "Columns: [missing_count]\n",
            "Index: []\n"
          ]
        }
      ],
      "source": [
        "# Count the number of missing values in each column\n",
        "missing_values_train = pd.DataFrame(train_data_cleaned.isna().sum(), columns=[\"missing_count\"])\n",
        "\n",
        "# Filter columns where missing values are greater than 0\n",
        "columns_with_missing_values = missing_values_train[missing_values_train[\"missing_count\"] > 0]\n",
        "\n",
        "# Get the count of columns with missing values\n",
        "num_columns_with_missing_values = columns_with_missing_values.shape[0]\n",
        "\n",
        "# Display the results\n",
        "print(f\"Number of columns with missing values: {num_columns_with_missing_values}\")\n",
        "print(columns_with_missing_values)"
      ]
    },
    {
      "cell_type": "code",
      "execution_count": 111,
      "metadata": {
        "colab": {
          "base_uri": "https://localhost:8080/"
        },
        "id": "pcwrYBEEAwT8",
        "outputId": "c37e2e32-4336-4cac-a15b-369c37b6cb0d"
      },
      "outputs": [
        {
          "output_type": "execute_result",
          "data": {
            "text/plain": [
              "Index(['year', 'month', 'day', 'weekday', 'hour', 'holiday', 'workday',\n",
              "       'season', 'is_weekend', 'day_period', 'installation_age_days',\n",
              "       'latitude', 'longitude', 'coordinates', 'distance_to_center',\n",
              "       'location_type', 'temperature_c', 'is_hot', 'is_cold', 'is_rainy',\n",
              "       'is_windy', 'low_visibility', 'total_precipitation_24h', 'bad_weather',\n",
              "       'log_bike_count', 'bike_count'],\n",
              "      dtype='object')"
            ]
          },
          "metadata": {},
          "execution_count": 111
        }
      ],
      "source": [
        "train_data_cleaned.columns"
      ]
    },
    {
      "cell_type": "markdown",
      "metadata": {
        "id": "O3_g-QT7TIcE"
      },
      "source": [
        "outlier detection and capping"
      ]
    },
    {
      "cell_type": "code",
      "execution_count": 112,
      "metadata": {
        "id": "vcfoC5T4NQRJ",
        "colab": {
          "base_uri": "https://localhost:8080/"
        },
        "outputId": "d2ac20ce-8227-4419-b51d-f4c801c714a7"
      },
      "outputs": [
        {
          "output_type": "stream",
          "name": "stdout",
          "text": [
            "        year  month  day  weekday  hour  holiday  workday  season  is_weekend  \\\n",
            "107     2020      9    1        1     2        0        1       3           0   \n",
            "153     2020      9    1        1     3        0        1       3           0   \n",
            "201     2020      9    1        1     4        0        1       3           0   \n",
            "782     2020      9    1        1    15        0        1       3           0   \n",
            "925     2020      9    1        1    18        0        1       3           0   \n",
            "...      ...    ...  ...      ...   ...      ...      ...     ...         ...   \n",
            "495819  2021      9    9        3     6        0        1       3           0   \n",
            "496091  2021      9    9        3    10        0        1       3           0   \n",
            "496354  2021      9    9        3    15        0        1       3           0   \n",
            "496719  2021      9    9        3    22        0        1       3           0   \n",
            "496826  2021      9    9        3    23        0        1       3           0   \n",
            "\n",
            "        day_period  installation_age_days   latitude  longitude  coordinates  \\\n",
            "107              3            2330.793452  48.846028   2.375429           10   \n",
            "153              3            2330.793452  48.846028   2.375429           10   \n",
            "201              3            2330.793452  48.846028   2.375429           10   \n",
            "782              0            2330.793452  48.846028   2.375429           10   \n",
            "925              0            2330.793452  48.846028   2.375429           10   \n",
            "...            ...                    ...        ...        ...          ...   \n",
            "495819           3             284.000000  48.839770   2.301980            6   \n",
            "496091           2             284.000000  48.839770   2.301980            6   \n",
            "496354           0             284.000000  48.839770   2.301980            6   \n",
            "496719           1             284.000000  48.839770   2.301980            6   \n",
            "496826           1             284.000000  48.839770   2.301980            6   \n",
            "\n",
            "        distance_to_center  location_type  temperature_c  is_hot  is_cold  \\\n",
            "107               2.070853              1           12.6       0        0   \n",
            "153               2.070853              1           10.8       0        0   \n",
            "201               2.070853              1           10.8       0        0   \n",
            "782               2.070853              1           20.5       1        0   \n",
            "925               2.070853              1           19.0       0        0   \n",
            "...                    ...            ...            ...     ...      ...   \n",
            "495819            4.133807              0           19.7       0        0   \n",
            "496091            4.133807              0           20.3       1        0   \n",
            "496354            4.133807              0           26.2       1        0   \n",
            "496719            4.133807              0           19.1       0        0   \n",
            "496826            4.133807              0           19.1       0        0   \n",
            "\n",
            "        is_rainy  is_windy  low_visibility  total_precipitation_24h  \\\n",
            "107          0.0       0.0             0.0                      0.0   \n",
            "153          0.0       0.0             0.0                      0.0   \n",
            "201          0.0       0.0             0.0                      0.0   \n",
            "782          0.0       0.0             0.0                      0.0   \n",
            "925          0.0       0.0             0.0                      0.0   \n",
            "...          ...       ...             ...                      ...   \n",
            "495819       0.0       0.0             0.0                      2.3   \n",
            "496091       0.0       0.0             0.0                      2.4   \n",
            "496354       0.0       0.0             0.0                      1.2   \n",
            "496719       0.0       0.0             0.0                      3.0   \n",
            "496826       0.0       0.0             0.0                      3.0   \n",
            "\n",
            "        bad_weather  log_bike_count  bike_count  \n",
            "107               0        0.000000    0.000000  \n",
            "153               0        0.693147    1.000000  \n",
            "201               0        0.000000    0.000000  \n",
            "782               0        1.609438    4.000000  \n",
            "925               0        2.302585    9.000000  \n",
            "...             ...             ...         ...  \n",
            "495819            0        6.100319  322.963174  \n",
            "496091            0        4.983607  145.000000  \n",
            "496354            0        5.389072  218.000000  \n",
            "496719            0        3.091042   21.000000  \n",
            "496826            0        2.772589   15.000000  \n",
            "\n",
            "[496827 rows x 26 columns]\n"
          ]
        }
      ],
      "source": [
        "\n",
        "def cap_outliers(df, threshold=5):\n",
        "    # Iterate over all numeric columns\n",
        "    for col in df.select_dtypes(include=[np.number]).columns:\n",
        "        # Calculate the mean and standard deviation for the column\n",
        "        mean = df[col].mean()\n",
        "        std_dev = df[col].std()\n",
        "\n",
        "        # Define the lower and upper bounds\n",
        "        lower_limit = mean - threshold * std_dev\n",
        "        upper_limit = mean + threshold * std_dev\n",
        "\n",
        "        # Cap the outliers\n",
        "        df[col] = np.clip(df[col], lower_limit, upper_limit)\n",
        "\n",
        "    return df\n",
        "\n",
        "# Apply the outlier capping function\n",
        "train_data_cleaned = cap_outliers(train_data_cleaned, threshold=3)\n",
        "\n",
        "# Display the cleaned DataFrame\n",
        "print(train_data_cleaned)\n"
      ]
    },
    {
      "cell_type": "markdown",
      "metadata": {
        "id": "cHo7bLOATLlq"
      },
      "source": [
        "scaling"
      ]
    },
    {
      "cell_type": "code",
      "execution_count": 113,
      "metadata": {
        "colab": {
          "base_uri": "https://localhost:8080/"
        },
        "id": "FOXzF8Y68BOt",
        "outputId": "de5e5dc9-e2ff-4ab1-910c-828e33747af6"
      },
      "outputs": [
        {
          "output_type": "stream",
          "name": "stdout",
          "text": [
            "Scaled dataset:\n",
            "   bad_weather  coordinates  day_period  distance_to_center  holiday  \\\n",
            "0      -0.3894    -0.480358    1.335842           -0.628134      0.0   \n",
            "1      -0.3894    -0.480358    1.335842           -0.628134      0.0   \n",
            "2      -0.3894    -0.480358    1.335842           -0.628134      0.0   \n",
            "3      -0.3894    -0.480358   -1.264111           -0.628134      0.0   \n",
            "4      -0.3894    -0.480358   -1.264111           -0.628134      0.0   \n",
            "\n",
            "   installation_age_days   is_cold    is_hot  is_rainy  is_weekend  is_windy  \\\n",
            "0               3.659015 -0.425422 -0.417222  -0.32525     -0.6288 -0.157042   \n",
            "1               3.659015 -0.425422 -0.417222  -0.32525     -0.6288 -0.157042   \n",
            "2               3.659015 -0.425422 -0.417222  -0.32525     -0.6288 -0.157042   \n",
            "3               3.659015 -0.425422  2.396807  -0.32525     -0.6288 -0.157042   \n",
            "4               3.659015 -0.425422 -0.417222  -0.32525     -0.6288 -0.157042   \n",
            "\n",
            "   latitude  longitude  low_visibility  temperature_c  \\\n",
            "0 -0.448167   0.787625       -0.089499       0.018061   \n",
            "1 -0.448167   0.787625       -0.089499      -0.237442   \n",
            "2 -0.448167   0.787625       -0.089499      -0.237442   \n",
            "3 -0.448167   0.787625       -0.089499       1.139436   \n",
            "4 -0.448167   0.787625       -0.089499       0.926516   \n",
            "\n",
            "   total_precipitation_24h  workday  \n",
            "0                -0.504774   0.6288  \n",
            "1                -0.504774   0.6288  \n",
            "2                -0.504774   0.6288  \n",
            "3                -0.504774   0.6288  \n",
            "4                -0.504774   0.6288  \n"
          ]
        }
      ],
      "source": [
        "# from sklearn.preprocessing import StandardScaler\n",
        "\n",
        "# # Identify numeric columns\n",
        "# numeric_cols = train_data_cleaned.select_dtypes(include=['float64', 'int64']).columns\n",
        "\n",
        "# # Exclude 'bike_count' and 'log_bike_count' from scaling\n",
        "# columns_to_scale = numeric_cols.difference(['bike_count', 'log_bike_count'])\n",
        "\n",
        "# # Initialize the scaler\n",
        "# scaler = StandardScaler()\n",
        "\n",
        "# # Scale only the selected numeric columns\n",
        "# scaled_data = scaler.fit_transform(train_data_cleaned[columns_to_scale])\n",
        "\n",
        "# # Create a new DataFrame with only the scaled numeric columns\n",
        "# df_train_scaled = pd.DataFrame(scaled_data, columns=columns_to_scale)\n",
        "\n",
        "# # Check the scaled data\n",
        "# print(\"Scaled dataset:\")\n",
        "# print(df_train_scaled.head())\n"
      ]
    },
    {
      "cell_type": "code",
      "execution_count": 114,
      "metadata": {
        "colab": {
          "base_uri": "https://localhost:8080/"
        },
        "id": "pU5PoSo7-GM1",
        "outputId": "1da07af3-3dd9-4455-83e0-4f21dacd7c03"
      },
      "outputs": [
        {
          "output_type": "stream",
          "name": "stdout",
          "text": [
            "Scaled data has no NaN values.\n"
          ]
        }
      ],
      "source": [
        "# # Check for NaN values in scaled_data\n",
        "# nan_count = np.isnan(scaled_data).sum()\n",
        "\n",
        "# if nan_count > 0:\n",
        "#     print(f\"Scaled data contains {nan_count} NaN values.\")\n",
        "# else:\n",
        "#     print(\"Scaled data has no NaN values.\")\n"
      ]
    },
    {
      "cell_type": "markdown",
      "metadata": {
        "id": "WRE786DITNqX"
      },
      "source": [
        "checking for top 15 correlated feats"
      ]
    },
    {
      "cell_type": "code",
      "source": [
        "# df_train_scaled.columns"
      ],
      "metadata": {
        "colab": {
          "base_uri": "https://localhost:8080/"
        },
        "id": "-M-tQC5oORDW",
        "outputId": "a762937d-4558-4f98-c587-e01cf3e2b595"
      },
      "execution_count": 67,
      "outputs": [
        {
          "output_type": "execute_result",
          "data": {
            "text/plain": [
              "Index(['cl', 'cod_tend', 'ctype1', 'dd', 'etat_sol', 'ff', 'hbas', 'hnuage1',\n",
              "       'holiday', 'ht_neige', 'latitude', 'longitude', 'n', 'nbas', 'nnuage1',\n",
              "       'numer_sta', 'per', 'perssfrai', 'pmer', 'pres', 'raf10', 'rafper',\n",
              "       'rr1', 'rr12', 'rr24', 'rr3', 'rr6', 'site_id', 'ssfrai', 't', 'td',\n",
              "       'tend', 'tend24', 'u', 'vv', 'w1', 'w2', 'workday', 'ww'],\n",
              "      dtype='object')"
            ]
          },
          "metadata": {},
          "execution_count": 67
        }
      ]
    },
    {
      "cell_type": "code",
      "execution_count": 69,
      "metadata": {
        "id": "XC4JmD8SNjJ6",
        "colab": {
          "base_uri": "https://localhost:8080/"
        },
        "outputId": "0b6e8487-ce9c-447d-f5bd-a5a30ad3a6e8"
      },
      "outputs": [
        {
          "output_type": "stream",
          "name": "stdout",
          "text": [
            "Index(['site_id', 'latitude', 'td', 't', 'etat_sol', 'pres', 'pmer',\n",
            "       'longitude', 'ff', 'raf10', 'nnuage1', 'ww', 'rr12', 'rafper',\n",
            "       'ht_neige', 'rr24', 'rr1', 'rr6', 'dd', 'vv', 'rr3', 'tend24', 'u',\n",
            "       'perssfrai', 'tend', 'cod_tend', 'w1', 'ctype1', 'w2'],\n",
            "      dtype='object')\n"
          ]
        }
      ],
      "source": [
        "# df_train_scaled_df = pd.DataFrame(df_train_scaled, columns=columns_to_scale)\n",
        "# df_train_scaled_df['log_bike_count']=train_data_cleaned['log_bike_count']\n",
        "# # Calculate the correlation matrix\n",
        "# correlation_matrix = df_train_scaled_df.corr()\n",
        "\n",
        "\n",
        "# # Extract the correlations of all columns with the target 'log_bike_count'\n",
        "# target_correlation = correlation_matrix['log_bike_count']\n",
        "\n",
        "# # Sort the correlations by their absolute values in descending order\n",
        "# sorted_corr = target_correlation.abs().sort_values(ascending=False)\n",
        "\n",
        "# # Get the top 20 columns (excluding the target column itself)\n",
        "# top_16_features = sorted_corr.index[1:30]  # Skipping the first one because it's the target itself\n",
        "# # Assuming `df_train_scaled` is a NumPy array and `column_names` is the list of feature names\n",
        "# df_train_scaled_df = pd.DataFrame(df_train_scaled, columns=columns_to_scale)\n",
        "\n",
        "# # Now, select the top 16 features by their names\n",
        "# df_train_scaled_top_features = df_train_scaled_df[top_16_features]\n",
        "\n",
        "\n",
        "# # Display the selected top features\n",
        "# print(top_16_features)"
      ]
    },
    {
      "cell_type": "code",
      "source": [
        "# df_train_scaled_top_features.columns"
      ],
      "metadata": {
        "colab": {
          "base_uri": "https://localhost:8080/"
        },
        "id": "phVDbqylNf66",
        "outputId": "abc05dab-6eed-48dc-de07-d953aa61098a"
      },
      "execution_count": 65,
      "outputs": [
        {
          "output_type": "execute_result",
          "data": {
            "text/plain": [
              "Index(['site_id', 'latitude', 'td', 't', 'etat_sol', 'pres', 'pmer',\n",
              "       'longitude', 'ff', 'raf10', 'nnuage1', 'ww', 'rr12', 'rafper',\n",
              "       'ht_neige', 'rr24', 'rr1', 'rr6', 'dd', 'vv', 'rr3', 'tend24', 'u',\n",
              "       'perssfrai'],\n",
              "      dtype='object')"
            ]
          },
          "metadata": {},
          "execution_count": 65
        }
      ]
    },
    {
      "cell_type": "markdown",
      "metadata": {
        "id": "wGZWdaXYTWbr"
      },
      "source": [
        "pca"
      ]
    },
    {
      "cell_type": "code",
      "execution_count": 18,
      "metadata": {
        "colab": {
          "base_uri": "https://localhost:8080/"
        },
        "id": "LeMz5_Qn9Bdf",
        "outputId": "02f4acda-98df-48ba-ba79-9ec8b70b9640"
      },
      "outputs": [
        {
          "output_type": "stream",
          "name": "stdout",
          "text": [
            "Selected principal components (with cumulative importance > 50%): [0, 1, 2, 3, 4, 5, 6, 7, 8]\n"
          ]
        }
      ],
      "source": [
        "# from sklearn.decomposition import PCA\n",
        "# import pandas as pd\n",
        "\n",
        "# # Apply PCA to the scaled data\n",
        "# pca_model = PCA()\n",
        "# pca_model.fit(df_train_scaled)\n",
        "\n",
        "# # Create columns for the PCA components\n",
        "# pca_columns = ['PC' + str(i + 1) for i in range(df_train_scaled.shape[1])]\n",
        "\n",
        "# # Transform the scaled data using PCA\n",
        "# df_pca_train = pd.DataFrame(pca_model.transform(df_train_scaled), columns=pca_columns)\n",
        "\n",
        "# # Get explained variance ratio\n",
        "# explained_info_train = pd.DataFrame(pca_model.explained_variance_ratio_, columns=['Explained Info'])\n",
        "\n",
        "# # Calculate cumulative explained variance\n",
        "# explained_info_train['Cumulative Explained Info'] = explained_info_train['Explained Info'].cumsum()\n",
        "\n",
        "# # Display cumulative explained variance and filter features with cumulative importance > 50%\n",
        "# explained_info_train_sum = explained_info_train[explained_info_train['Cumulative Explained Info'] <= 0.7]\n",
        "\n",
        "# # Get the names of features with cumulative importance > 50%\n",
        "# selected_pcs = explained_info_train_sum.index.tolist()\n",
        "\n",
        "# # Print the selected principal components\n",
        "# print(f\"Selected principal components (with cumulative importance > 50%): {selected_pcs}\")\n"
      ]
    },
    {
      "cell_type": "code",
      "execution_count": 19,
      "metadata": {
        "colab": {
          "base_uri": "https://localhost:8080/"
        },
        "id": "_k9MGOvBCfhI",
        "outputId": "a8203a1b-7800-441b-f021-16d98889caea"
      },
      "outputs": [
        {
          "output_type": "stream",
          "name": "stdout",
          "text": [
            "DataFrame with 10 PCA components:\n",
            "        PC1       PC2       PC3       PC4       PC5       PC6       PC7  \\\n",
            "0 -2.728619 -1.086594  0.345809  1.347857 -0.145793  0.398638 -0.907141   \n",
            "1 -2.732989 -1.722116  0.758959  1.226226 -0.313448  0.402504 -1.249807   \n",
            "2 -2.732989 -1.722116  0.758959  1.226226 -0.313448  0.402504 -1.249807   \n",
            "3 -0.597296  1.981913 -0.950825  1.119922 -0.889010  0.855845 -0.326463   \n",
            "4 -0.363953  1.531070  0.139376  1.364104 -0.359247  0.269620  0.374853   \n",
            "\n",
            "        PC8       PC9  \n",
            "0  0.343817 -0.369767  \n",
            "1  0.350691 -0.190392  \n",
            "2  0.350691 -0.190392  \n",
            "3  0.313637 -0.212039  \n",
            "4  0.294311 -0.221230  \n"
          ]
        }
      ],
      "source": [
        "# from sklearn.decomposition import PCA\n",
        "# import pandas as pd\n",
        "\n",
        "# # Define the number of components to keep\n",
        "# n_components = 9\n",
        "\n",
        "# # Create column names for the PCA components\n",
        "# pca_columns = ['PC' + str(i + 1) for i in range(n_components)]\n",
        "\n",
        "# # Apply PCA with the specified number of components\n",
        "# pca_model = PCA(n_components=n_components)\n",
        "# pca_model.fit(df_train_scaled)\n",
        "\n",
        "# # Transform the scaled data to the selected components\n",
        "# df_pca_train = pd.DataFrame(pca_model.transform(df_train_scaled), columns=pca_columns)\n",
        "\n",
        "# # Print the resulting DataFrame with the first few rows\n",
        "# print(\"DataFrame with 10 PCA components:\")\n",
        "# print(df_pca_train.head())\n"
      ]
    },
    {
      "cell_type": "code",
      "source": [
        "# train_data_cleaned.columns"
      ],
      "metadata": {
        "colab": {
          "base_uri": "https://localhost:8080/"
        },
        "id": "dL4UxUW8Z0OX",
        "outputId": "540d0bad-98b6-49ef-f18d-272e74f84fa3"
      },
      "execution_count": 119,
      "outputs": [
        {
          "output_type": "execute_result",
          "data": {
            "text/plain": [
              "Index(['year', 'month', 'day', 'weekday', 'hour', 'holiday', 'workday',\n",
              "       'season', 'is_weekend', 'day_period', 'installation_age_days',\n",
              "       'latitude', 'longitude', 'coordinates', 'distance_to_center',\n",
              "       'location_type', 'temperature_c', 'is_hot', 'is_cold', 'is_rainy',\n",
              "       'is_windy', 'low_visibility', 'total_precipitation_24h', 'bad_weather',\n",
              "       'log_bike_count', 'bike_count'],\n",
              "      dtype='object')"
            ]
          },
          "metadata": {},
          "execution_count": 119
        }
      ]
    },
    {
      "cell_type": "code",
      "execution_count": 120,
      "metadata": {
        "id": "dmjc6poFCiFs"
      },
      "outputs": [],
      "source": [
        "# Drop columns that are not relevant for your analysis or model training\n",
        "cols_to_drop = ['log_bike_count', 'bike_count']\n",
        "\n",
        "\n",
        "\n",
        "X = train_data_cleaned.drop(columns=cols_to_drop)\n",
        "y = train_data_cleaned['log_bike_count']\n",
        "X_train, X_val, y_train, y_val = train_test_split(X, y, test_size = 0.3, random_state = 17)"
      ]
    },
    {
      "cell_type": "markdown",
      "metadata": {
        "id": "lMs3P67yTYSs"
      },
      "source": [
        "model training"
      ]
    },
    {
      "cell_type": "code",
      "source": [
        "from xgboost import XGBRegressor\n",
        "from sklearn.metrics import mean_squared_error\n",
        "import numpy as np\n",
        "\n",
        "# Initialize the model with default parameters\n",
        "xgb_default = XGBRegressor(random_state=42)\n",
        "\n",
        "# Fit the model to the training data\n",
        "xgb_default.fit(X_train, y_train)\n",
        "\n",
        "# Predict on the validation set\n",
        "y_pred = xgb_default.predict(X_val)\n",
        "\n",
        "# Compute RMSE\n",
        "validation_rmse = np.sqrt(mean_squared_error(y_val, y_pred))\n",
        "print(\"Validation RMSE (Default XGBRegressor):\", validation_rmse)\n"
      ],
      "metadata": {
        "colab": {
          "base_uri": "https://localhost:8080/"
        },
        "id": "p47kiDoUGfZ4",
        "outputId": "86941275-9354-41ef-fb07-26db2dd0b7a5"
      },
      "execution_count": 121,
      "outputs": [
        {
          "output_type": "stream",
          "name": "stdout",
          "text": [
            "Validation RMSE (Default XGBRegressor): 0.5369619867679355\n"
          ]
        }
      ]
    },
    {
      "cell_type": "code",
      "source": [
        "from xgboost import XGBRegressor\n",
        "from sklearn.model_selection import RandomizedSearchCV\n",
        "from sklearn.metrics import mean_squared_error, make_scorer\n",
        "import numpy as np\n",
        "\n",
        "# Define RMSE scorer\n",
        "rmse_scorer = make_scorer(mean_squared_error, squared=False)\n",
        "\n",
        "# Refined parameter grid with broader but reasonable ranges\n",
        "param_grid = {\n",
        "    'max_depth': [3, 4, 5],  # Broaden to include slightly deeper trees\n",
        "    'min_child_weight': [1, 2, 3],  # Extend range for more flexibility\n",
        "    'learning_rate': [0.01, 0.05, 0.1],  # Include a very low learning rate\n",
        "    'n_estimators': [100, 200, 300],  # Slightly larger range for robustness\n",
        "    'gamma': [0, 0.1, 0.2, 0.3],  # Include 0 for no regularization\n",
        "    'subsample': [0.8, 0.9, 1.0],  # More choices for sampling\n",
        "    'colsample_bytree': [0.8, 0.9, 1.0],  # More choices for column sampling\n",
        "    'alpha': [0, 0.1, 0.3],  # L1 regularization\n",
        "    'lambda': [1, 1.5, 2],  # L2 regularization\n",
        "}\n",
        "\n",
        "# Initialize the model\n",
        "xgb = XGBRegressor(\n",
        "    objective='reg:squarederror',\n",
        "    eval_metric='rmse',\n",
        "    use_label_encoder=False,\n",
        "    n_jobs=-1,\n",
        "    random_state=42\n",
        ")\n",
        "\n",
        "# Randomized search with RMSE and more iterations to explore a larger space\n",
        "random_search = RandomizedSearchCV(\n",
        "    estimator=xgb,\n",
        "    param_distributions=param_grid,\n",
        "    n_iter=50,  # Increase the number of iterations to explore more combinations\n",
        "    cv=5,  # Use 5-fold cross-validation for better performance estimation\n",
        "    scoring=rmse_scorer,\n",
        "    verbose=2,\n",
        "    n_jobs=-1,\n",
        "    random_state=42\n",
        ")\n",
        "\n",
        "# Fit the model\n",
        "random_search.fit(X_train, y_train)\n",
        "\n",
        "# Best parameters\n",
        "print(\"Best Parameters:\", random_search.best_params_)\n",
        "\n",
        "# Best estimator\n",
        "best_model = random_search.best_estimator_\n",
        "\n",
        "# RMSE on validation set\n",
        "y_pred = best_model.predict(X_val)\n",
        "validation_rmse = np.sqrt(mean_squared_error(y_val, y_pred))\n",
        "print(\"Validation RMSE:\", validation_rmse)\n"
      ],
      "metadata": {
        "colab": {
          "base_uri": "https://localhost:8080/"
        },
        "id": "7D7xlcfcESCC",
        "outputId": "418f9326-a8c2-4a8f-b946-882b5ef3a5f1"
      },
      "execution_count": 126,
      "outputs": [
        {
          "output_type": "stream",
          "name": "stdout",
          "text": [
            "Fitting 5 folds for each of 50 candidates, totalling 250 fits\n",
            "Best Parameters: {'subsample': 1.0, 'n_estimators': 100, 'min_child_weight': 1, 'max_depth': 3, 'learning_rate': 0.01, 'lambda': 1.5, 'gamma': 0.1, 'colsample_bytree': 0.9, 'alpha': 0}\n",
            "Validation RMSE: 1.158725157756785\n"
          ]
        }
      ]
    },
    {
      "cell_type": "markdown",
      "source": [
        "checking optuna"
      ],
      "metadata": {
        "id": "vXXFOrJ_kP5A"
      }
    },
    {
      "cell_type": "code",
      "source": [
        "!pip install optuna"
      ],
      "metadata": {
        "colab": {
          "base_uri": "https://localhost:8080/"
        },
        "id": "lRcqY46dhnly",
        "outputId": "8683aee2-dc8c-4e39-cbb5-a667dffcd0d1"
      },
      "execution_count": 127,
      "outputs": [
        {
          "output_type": "stream",
          "name": "stdout",
          "text": [
            "Collecting optuna\n",
            "  Downloading optuna-4.1.0-py3-none-any.whl.metadata (16 kB)\n",
            "Collecting alembic>=1.5.0 (from optuna)\n",
            "  Downloading alembic-1.14.0-py3-none-any.whl.metadata (7.4 kB)\n",
            "Collecting colorlog (from optuna)\n",
            "  Downloading colorlog-6.9.0-py3-none-any.whl.metadata (10 kB)\n",
            "Requirement already satisfied: numpy in /usr/local/lib/python3.10/dist-packages (from optuna) (1.26.4)\n",
            "Requirement already satisfied: packaging>=20.0 in /usr/local/lib/python3.10/dist-packages (from optuna) (24.2)\n",
            "Requirement already satisfied: sqlalchemy>=1.4.2 in /usr/local/lib/python3.10/dist-packages (from optuna) (2.0.36)\n",
            "Requirement already satisfied: tqdm in /usr/local/lib/python3.10/dist-packages (from optuna) (4.66.6)\n",
            "Requirement already satisfied: PyYAML in /usr/local/lib/python3.10/dist-packages (from optuna) (6.0.2)\n",
            "Collecting Mako (from alembic>=1.5.0->optuna)\n",
            "  Downloading Mako-1.3.7-py3-none-any.whl.metadata (2.9 kB)\n",
            "Requirement already satisfied: typing-extensions>=4 in /usr/local/lib/python3.10/dist-packages (from alembic>=1.5.0->optuna) (4.12.2)\n",
            "Requirement already satisfied: greenlet!=0.4.17 in /usr/local/lib/python3.10/dist-packages (from sqlalchemy>=1.4.2->optuna) (3.1.1)\n",
            "Requirement already satisfied: MarkupSafe>=0.9.2 in /usr/local/lib/python3.10/dist-packages (from Mako->alembic>=1.5.0->optuna) (3.0.2)\n",
            "Downloading optuna-4.1.0-py3-none-any.whl (364 kB)\n",
            "\u001b[2K   \u001b[90m━━━━━━━━━━━━━━━━━━━━━━━━━━━━━━━━━━━━━━━━\u001b[0m \u001b[32m364.4/364.4 kB\u001b[0m \u001b[31m6.8 MB/s\u001b[0m eta \u001b[36m0:00:00\u001b[0m\n",
            "\u001b[?25hDownloading alembic-1.14.0-py3-none-any.whl (233 kB)\n",
            "\u001b[2K   \u001b[90m━━━━━━━━━━━━━━━━━━━━━━━━━━━━━━━━━━━━━━━━\u001b[0m \u001b[32m233.5/233.5 kB\u001b[0m \u001b[31m14.7 MB/s\u001b[0m eta \u001b[36m0:00:00\u001b[0m\n",
            "\u001b[?25hDownloading colorlog-6.9.0-py3-none-any.whl (11 kB)\n",
            "Downloading Mako-1.3.7-py3-none-any.whl (78 kB)\n",
            "\u001b[2K   \u001b[90m━━━━━━━━━━━━━━━━━━━━━━━━━━━━━━━━━━━━━━━━\u001b[0m \u001b[32m78.9/78.9 kB\u001b[0m \u001b[31m4.8 MB/s\u001b[0m eta \u001b[36m0:00:00\u001b[0m\n",
            "\u001b[?25hInstalling collected packages: Mako, colorlog, alembic, optuna\n",
            "Successfully installed Mako-1.3.7 alembic-1.14.0 colorlog-6.9.0 optuna-4.1.0\n"
          ]
        }
      ]
    },
    {
      "cell_type": "code",
      "source": [
        "import optuna\n",
        "from xgboost import XGBRegressor\n",
        "from sklearn.metrics import mean_squared_error\n",
        "import numpy as np\n",
        "\n",
        "# Define the objective function for Optuna\n",
        "def objective(trial):\n",
        "    # Define the search space for hyperparameters\n",
        "    param_grid = {\n",
        "        'max_depth': trial.suggest_int('max_depth', 3, 10),  # Range for depth\n",
        "        'min_child_weight': trial.suggest_int('min_child_weight', 1, 5),  # Range for min_child_weight\n",
        "        'learning_rate': trial.suggest_loguniform('learning_rate', 0.01, 0.1),  # Log-uniform distribution for learning rate\n",
        "        'n_estimators': trial.suggest_int('n_estimators', 100, 1000),  # Number of trees\n",
        "        'gamma': trial.suggest_float('gamma', 0, 1),  # Range for gamma (regularization)\n",
        "        'subsample': trial.suggest_uniform('subsample', 0.7, 1.0),  # Range for subsample\n",
        "        'colsample_bytree': trial.suggest_uniform('colsample_bytree', 0.7, 1.0),  # Range for colsample_bytree\n",
        "        'alpha': trial.suggest_float('alpha', 0, 1),  # L1 regularization term\n",
        "        'lambda': trial.suggest_float('lambda', 0, 1)  # L2 regularization term\n",
        "    }\n",
        "\n",
        "    # Initialize the model with these parameters\n",
        "    model = XGBRegressor(\n",
        "        objective='reg:squarederror',\n",
        "        eval_metric='rmse',\n",
        "        use_label_encoder=False,\n",
        "        **param_grid,\n",
        "        n_jobs=-1,\n",
        "        random_state=42\n",
        "    )\n",
        "\n",
        "    # Fit the model and predict\n",
        "    model.fit(X_train, y_train)\n",
        "    y_pred = model.predict(X_val)\n",
        "\n",
        "    # Calculate RMSE for validation set\n",
        "    rmse = np.sqrt(mean_squared_error(y_val, y_pred))\n",
        "    return rmse\n",
        "\n",
        "# Create the Optuna study\n",
        "study = optuna.create_study(direction='minimize')  # Minimizing RMSE\n",
        "study.optimize(objective, n_trials=50, timeout=600)  # Limit to 50 trials or 10 minutes\n",
        "\n",
        "# Print the best parameters and RMSE\n",
        "print(\"Best Parameters:\", study.best_params)\n",
        "print(\"Best RMSE:\", study.best_value)\n",
        "\n",
        "# Optionally, visualize the optimization process\n",
        "optuna.visualization.plot_optimization_history(study)\n",
        "optuna.visualization.plot_param_importances(study)\n"
      ],
      "metadata": {
        "colab": {
          "base_uri": "https://localhost:8080/",
          "height": 970
        },
        "id": "-QxbaX5LhpSy",
        "outputId": "1e1a13da-4d48-44c4-8d9d-8095af874e2a"
      },
      "execution_count": 128,
      "outputs": [
        {
          "output_type": "stream",
          "name": "stderr",
          "text": [
            "[I 2024-12-04 16:35:24,550] A new study created in memory with name: no-name-82c0eb97-96b9-4ce9-b652-c7327dea2318\n",
            "[I 2024-12-04 16:35:59,103] Trial 0 finished with value: 0.5174321960415398 and parameters: {'max_depth': 10, 'min_child_weight': 1, 'learning_rate': 0.08823660529557009, 'n_estimators': 409, 'gamma': 0.40866681425321805, 'subsample': 0.9669085073861472, 'colsample_bytree': 0.7075767699437705, 'alpha': 0.8813850047424574, 'lambda': 0.6901289961262688}. Best is trial 0 with value: 0.5174321960415398.\n",
            "[I 2024-12-04 16:36:25,098] Trial 1 finished with value: 0.5229848554592209 and parameters: {'max_depth': 10, 'min_child_weight': 1, 'learning_rate': 0.05406787323942546, 'n_estimators': 669, 'gamma': 0.17358578393835933, 'subsample': 0.9930936772712603, 'colsample_bytree': 0.946995753028099, 'alpha': 0.04509415478191947, 'lambda': 0.02249055243572806}. Best is trial 0 with value: 0.5174321960415398.\n",
            "[I 2024-12-04 16:37:24,954] Trial 2 finished with value: 0.5172754888604778 and parameters: {'max_depth': 10, 'min_child_weight': 5, 'learning_rate': 0.017962744721141434, 'n_estimators': 712, 'gamma': 0.74183165927942, 'subsample': 0.7063983930090983, 'colsample_bytree': 0.7307654957712623, 'alpha': 0.3710483686967372, 'lambda': 0.8956182701348135}. Best is trial 2 with value: 0.5172754888604778.\n",
            "[I 2024-12-04 16:37:56,809] Trial 3 finished with value: 0.5615665098135851 and parameters: {'max_depth': 7, 'min_child_weight': 5, 'learning_rate': 0.015471932019284342, 'n_estimators': 560, 'gamma': 0.4488233778571151, 'subsample': 0.8322588424070678, 'colsample_bytree': 0.9752245251544418, 'alpha': 0.5972931713953009, 'lambda': 0.9957042536250257}. Best is trial 2 with value: 0.5172754888604778.\n",
            "[I 2024-12-04 16:38:15,528] Trial 4 finished with value: 0.5347271017171719 and parameters: {'max_depth': 7, 'min_child_weight': 5, 'learning_rate': 0.04779846077442926, 'n_estimators': 323, 'gamma': 0.5386004100800323, 'subsample': 0.9021931663602961, 'colsample_bytree': 0.9243364633126628, 'alpha': 0.41271389209910403, 'lambda': 0.28291513673736357}. Best is trial 2 with value: 0.5172754888604778.\n",
            "[I 2024-12-04 16:38:44,172] Trial 5 finished with value: 0.5963111820434187 and parameters: {'max_depth': 7, 'min_child_weight': 3, 'learning_rate': 0.011455963937109325, 'n_estimators': 508, 'gamma': 0.8778829824789017, 'subsample': 0.8345852775257854, 'colsample_bytree': 0.7084911194587951, 'alpha': 0.9245957142311896, 'lambda': 0.0066668338754550804}. Best is trial 2 with value: 0.5172754888604778.\n",
            "[I 2024-12-04 16:39:05,619] Trial 6 finished with value: 0.5306449441638681 and parameters: {'max_depth': 9, 'min_child_weight': 2, 'learning_rate': 0.02633553147699691, 'n_estimators': 307, 'gamma': 0.8680852361356128, 'subsample': 0.8104718293598108, 'colsample_bytree': 0.8879058871685125, 'alpha': 0.5877423270632268, 'lambda': 0.5317268259897358}. Best is trial 2 with value: 0.5172754888604778.\n",
            "[I 2024-12-04 16:39:36,750] Trial 7 finished with value: 0.5178188491898735 and parameters: {'max_depth': 9, 'min_child_weight': 4, 'learning_rate': 0.04080695086582979, 'n_estimators': 516, 'gamma': 0.5198843787234119, 'subsample': 0.785588072985929, 'colsample_bytree': 0.8262847388292651, 'alpha': 0.529069172247043, 'lambda': 0.20570189210304612}. Best is trial 2 with value: 0.5172754888604778.\n",
            "[I 2024-12-04 16:39:44,109] Trial 8 finished with value: 0.6542930443870713 and parameters: {'max_depth': 8, 'min_child_weight': 4, 'learning_rate': 0.02489796262961201, 'n_estimators': 125, 'gamma': 0.3689065865284069, 'subsample': 0.7183952556945156, 'colsample_bytree': 0.8880309877444017, 'alpha': 0.9836115493978306, 'lambda': 0.09934240073452794}. Best is trial 2 with value: 0.5172754888604778.\n",
            "[I 2024-12-04 16:40:13,804] Trial 9 finished with value: 0.5219564810231374 and parameters: {'max_depth': 7, 'min_child_weight': 5, 'learning_rate': 0.05566342320887795, 'n_estimators': 679, 'gamma': 0.418639207795779, 'subsample': 0.8038743677774379, 'colsample_bytree': 0.9420921171658236, 'alpha': 0.7167914989257711, 'lambda': 0.6174001604091683}. Best is trial 2 with value: 0.5172754888604778.\n",
            "[I 2024-12-04 16:40:39,908] Trial 10 finished with value: 0.6990460029919127 and parameters: {'max_depth': 3, 'min_child_weight': 3, 'learning_rate': 0.016428437882735736, 'n_estimators': 972, 'gamma': 0.7229610206618906, 'subsample': 0.7002879499941398, 'colsample_bytree': 0.7897732342690522, 'alpha': 0.24321742547031155, 'lambda': 0.9992097577437785}. Best is trial 2 with value: 0.5172754888604778.\n",
            "[I 2024-12-04 16:41:04,256] Trial 11 finished with value: 0.5649172599847828 and parameters: {'max_depth': 4, 'min_child_weight': 1, 'learning_rate': 0.09100325146248958, 'n_estimators': 916, 'gamma': 0.7118072932723623, 'subsample': 0.9332202696914151, 'colsample_bytree': 0.7036968261797096, 'alpha': 0.2313003595082752, 'lambda': 0.7463520462794613}. Best is trial 2 with value: 0.5172754888604778.\n",
            "[I 2024-12-04 16:42:05,682] Trial 12 finished with value: 0.5838581214956629 and parameters: {'max_depth': 10, 'min_child_weight': 2, 'learning_rate': 0.09663529918985467, 'n_estimators': 808, 'gamma': 0.0018849613128005815, 'subsample': 0.9934290962271353, 'colsample_bytree': 0.7685477347898634, 'alpha': 0.3358991904912164, 'lambda': 0.7823561119426435}. Best is trial 2 with value: 0.5172754888604778.\n",
            "[I 2024-12-04 16:42:16,764] Trial 13 finished with value: 0.6582936939574418 and parameters: {'max_depth': 5, 'min_child_weight': 2, 'learning_rate': 0.022262079074925535, 'n_estimators': 314, 'gamma': 0.6713141455389944, 'subsample': 0.89439396937755, 'colsample_bytree': 0.7515468940365803, 'alpha': 0.7518540739059152, 'lambda': 0.8305251856487673}. Best is trial 2 with value: 0.5172754888604778.\n",
            "[I 2024-12-04 16:42:47,783] Trial 14 finished with value: 0.5195714254672833 and parameters: {'max_depth': 9, 'min_child_weight': 4, 'learning_rate': 0.036286375996774874, 'n_estimators': 748, 'gamma': 0.9922115356689383, 'subsample': 0.7532173917581751, 'colsample_bytree': 0.7377750976081039, 'alpha': 0.8023827111903427, 'lambda': 0.3920328050437221}. Best is trial 2 with value: 0.5172754888604778.\n",
            "[I 2024-12-04 16:43:08,114] Trial 15 finished with value: 0.5265752166454086 and parameters: {'max_depth': 10, 'min_child_weight': 1, 'learning_rate': 0.07380602791238279, 'n_estimators': 437, 'gamma': 0.2596419027803134, 'subsample': 0.9426419671076118, 'colsample_bytree': 0.8308980387458147, 'alpha': 0.004901428923999029, 'lambda': 0.6593752648008213}. Best is trial 2 with value: 0.5172754888604778.\n",
            "[I 2024-12-04 16:43:14,549] Trial 16 finished with value: 0.9398937439526482 and parameters: {'max_depth': 5, 'min_child_weight': 3, 'learning_rate': 0.010126770694239598, 'n_estimators': 167, 'gamma': 0.6200926127862184, 'subsample': 0.8860289029912739, 'colsample_bytree': 0.7908050431767115, 'alpha': 0.4281928726961225, 'lambda': 0.8859927682907964}. Best is trial 2 with value: 0.5172754888604778.\n",
            "[I 2024-12-04 16:43:51,983] Trial 17 finished with value: 0.5290312924750395 and parameters: {'max_depth': 8, 'min_child_weight': 2, 'learning_rate': 0.01990609137412569, 'n_estimators': 616, 'gamma': 0.27732654158633124, 'subsample': 0.7415695096919407, 'colsample_bytree': 0.7295415659556496, 'alpha': 0.15901536072766798, 'lambda': 0.6815697312208189}. Best is trial 2 with value: 0.5172754888604778.\n",
            "[I 2024-12-04 16:44:19,028] Trial 18 finished with value: 0.5183026583917384 and parameters: {'max_depth': 9, 'min_child_weight': 4, 'learning_rate': 0.031180238824095475, 'n_estimators': 417, 'gamma': 0.839606441938376, 'subsample': 0.8668538504000219, 'colsample_bytree': 0.7920519134740529, 'alpha': 0.8476895377413531, 'lambda': 0.47791834771639274}. Best is trial 2 with value: 0.5172754888604778.\n",
            "[I 2024-12-04 16:45:10,763] Trial 19 finished with value: 0.5328899297868229 and parameters: {'max_depth': 8, 'min_child_weight': 5, 'learning_rate': 0.013563683796827231, 'n_estimators': 819, 'gamma': 0.566392596948093, 'subsample': 0.9534466068393457, 'colsample_bytree': 0.7614832487968706, 'alpha': 0.6619353623109703, 'lambda': 0.9085599695977966}. Best is trial 2 with value: 0.5172754888604778.\n",
            "[I 2024-12-04 16:45:25,249] Trial 20 finished with value: 0.5209851247174352 and parameters: {'max_depth': 10, 'min_child_weight': 1, 'learning_rate': 0.0721049789592756, 'n_estimators': 216, 'gamma': 0.7974359107563453, 'subsample': 0.770949058679089, 'colsample_bytree': 0.8535771299992269, 'alpha': 0.4458584373044829, 'lambda': 0.5591526965181858}. Best is trial 2 with value: 0.5172754888604778.\n"
          ]
        },
        {
          "output_type": "stream",
          "name": "stdout",
          "text": [
            "Best Parameters: {'max_depth': 10, 'min_child_weight': 5, 'learning_rate': 0.017962744721141434, 'n_estimators': 712, 'gamma': 0.74183165927942, 'subsample': 0.7063983930090983, 'colsample_bytree': 0.7307654957712623, 'alpha': 0.3710483686967372, 'lambda': 0.8956182701348135}\n",
            "Best RMSE: 0.5172754888604778\n"
          ]
        },
        {
          "output_type": "display_data",
          "data": {
            "text/html": [
              "<html>\n",
              "<head><meta charset=\"utf-8\" /></head>\n",
              "<body>\n",
              "    <div>            <script src=\"https://cdnjs.cloudflare.com/ajax/libs/mathjax/2.7.5/MathJax.js?config=TeX-AMS-MML_SVG\"></script><script type=\"text/javascript\">if (window.MathJax && window.MathJax.Hub && window.MathJax.Hub.Config) {window.MathJax.Hub.Config({SVG: {font: \"STIX-Web\"}});}</script>                <script type=\"text/javascript\">window.PlotlyConfig = {MathJaxConfig: 'local'};</script>\n",
              "        <script charset=\"utf-8\" src=\"https://cdn.plot.ly/plotly-2.35.2.min.js\"></script>                <div id=\"69c81d62-629f-421b-89fd-4d15de9d2451\" class=\"plotly-graph-div\" style=\"height:525px; width:100%;\"></div>            <script type=\"text/javascript\">                                    window.PLOTLYENV=window.PLOTLYENV || {};                                    if (document.getElementById(\"69c81d62-629f-421b-89fd-4d15de9d2451\")) {                    Plotly.newPlot(                        \"69c81d62-629f-421b-89fd-4d15de9d2451\",                        [{\"cliponaxis\":false,\"hovertemplate\":[\"min_child_weight (IntDistribution): 0.001142966049305631\\u003cextra\\u003e\\u003c\\u002fextra\\u003e\",\"colsample_bytree (FloatDistribution): 0.006460757420537843\\u003cextra\\u003e\\u003c\\u002fextra\\u003e\",\"gamma (FloatDistribution): 0.013985955547773196\\u003cextra\\u003e\\u003c\\u002fextra\\u003e\",\"lambda (FloatDistribution): 0.057875343213831684\\u003cextra\\u003e\\u003c\\u002fextra\\u003e\",\"alpha (FloatDistribution): 0.05894277026518202\\u003cextra\\u003e\\u003c\\u002fextra\\u003e\",\"subsample (FloatDistribution): 0.07833643362221468\\u003cextra\\u003e\\u003c\\u002fextra\\u003e\",\"n_estimators (IntDistribution): 0.18638375984376568\\u003cextra\\u003e\\u003c\\u002fextra\\u003e\",\"max_depth (IntDistribution): 0.2611581548304189\\u003cextra\\u003e\\u003c\\u002fextra\\u003e\",\"learning_rate (FloatDistribution): 0.3357138592069702\\u003cextra\\u003e\\u003c\\u002fextra\\u003e\"],\"name\":\"Objective Value\",\"orientation\":\"h\",\"text\":[\"\\u003c0.01\",\"\\u003c0.01\",\"0.01\",\"0.06\",\"0.06\",\"0.08\",\"0.19\",\"0.26\",\"0.34\"],\"textposition\":\"outside\",\"x\":[0.001142966049305631,0.006460757420537843,0.013985955547773196,0.057875343213831684,0.05894277026518202,0.07833643362221468,0.18638375984376568,0.2611581548304189,0.3357138592069702],\"y\":[\"min_child_weight\",\"colsample_bytree\",\"gamma\",\"lambda\",\"alpha\",\"subsample\",\"n_estimators\",\"max_depth\",\"learning_rate\"],\"type\":\"bar\"}],                        {\"title\":{\"text\":\"Hyperparameter Importances\"},\"xaxis\":{\"title\":{\"text\":\"Hyperparameter Importance\"}},\"yaxis\":{\"title\":{\"text\":\"Hyperparameter\"}},\"template\":{\"data\":{\"histogram2dcontour\":[{\"type\":\"histogram2dcontour\",\"colorbar\":{\"outlinewidth\":0,\"ticks\":\"\"},\"colorscale\":[[0.0,\"#0d0887\"],[0.1111111111111111,\"#46039f\"],[0.2222222222222222,\"#7201a8\"],[0.3333333333333333,\"#9c179e\"],[0.4444444444444444,\"#bd3786\"],[0.5555555555555556,\"#d8576b\"],[0.6666666666666666,\"#ed7953\"],[0.7777777777777778,\"#fb9f3a\"],[0.8888888888888888,\"#fdca26\"],[1.0,\"#f0f921\"]]}],\"choropleth\":[{\"type\":\"choropleth\",\"colorbar\":{\"outlinewidth\":0,\"ticks\":\"\"}}],\"histogram2d\":[{\"type\":\"histogram2d\",\"colorbar\":{\"outlinewidth\":0,\"ticks\":\"\"},\"colorscale\":[[0.0,\"#0d0887\"],[0.1111111111111111,\"#46039f\"],[0.2222222222222222,\"#7201a8\"],[0.3333333333333333,\"#9c179e\"],[0.4444444444444444,\"#bd3786\"],[0.5555555555555556,\"#d8576b\"],[0.6666666666666666,\"#ed7953\"],[0.7777777777777778,\"#fb9f3a\"],[0.8888888888888888,\"#fdca26\"],[1.0,\"#f0f921\"]]}],\"heatmap\":[{\"type\":\"heatmap\",\"colorbar\":{\"outlinewidth\":0,\"ticks\":\"\"},\"colorscale\":[[0.0,\"#0d0887\"],[0.1111111111111111,\"#46039f\"],[0.2222222222222222,\"#7201a8\"],[0.3333333333333333,\"#9c179e\"],[0.4444444444444444,\"#bd3786\"],[0.5555555555555556,\"#d8576b\"],[0.6666666666666666,\"#ed7953\"],[0.7777777777777778,\"#fb9f3a\"],[0.8888888888888888,\"#fdca26\"],[1.0,\"#f0f921\"]]}],\"heatmapgl\":[{\"type\":\"heatmapgl\",\"colorbar\":{\"outlinewidth\":0,\"ticks\":\"\"},\"colorscale\":[[0.0,\"#0d0887\"],[0.1111111111111111,\"#46039f\"],[0.2222222222222222,\"#7201a8\"],[0.3333333333333333,\"#9c179e\"],[0.4444444444444444,\"#bd3786\"],[0.5555555555555556,\"#d8576b\"],[0.6666666666666666,\"#ed7953\"],[0.7777777777777778,\"#fb9f3a\"],[0.8888888888888888,\"#fdca26\"],[1.0,\"#f0f921\"]]}],\"contourcarpet\":[{\"type\":\"contourcarpet\",\"colorbar\":{\"outlinewidth\":0,\"ticks\":\"\"}}],\"contour\":[{\"type\":\"contour\",\"colorbar\":{\"outlinewidth\":0,\"ticks\":\"\"},\"colorscale\":[[0.0,\"#0d0887\"],[0.1111111111111111,\"#46039f\"],[0.2222222222222222,\"#7201a8\"],[0.3333333333333333,\"#9c179e\"],[0.4444444444444444,\"#bd3786\"],[0.5555555555555556,\"#d8576b\"],[0.6666666666666666,\"#ed7953\"],[0.7777777777777778,\"#fb9f3a\"],[0.8888888888888888,\"#fdca26\"],[1.0,\"#f0f921\"]]}],\"surface\":[{\"type\":\"surface\",\"colorbar\":{\"outlinewidth\":0,\"ticks\":\"\"},\"colorscale\":[[0.0,\"#0d0887\"],[0.1111111111111111,\"#46039f\"],[0.2222222222222222,\"#7201a8\"],[0.3333333333333333,\"#9c179e\"],[0.4444444444444444,\"#bd3786\"],[0.5555555555555556,\"#d8576b\"],[0.6666666666666666,\"#ed7953\"],[0.7777777777777778,\"#fb9f3a\"],[0.8888888888888888,\"#fdca26\"],[1.0,\"#f0f921\"]]}],\"mesh3d\":[{\"type\":\"mesh3d\",\"colorbar\":{\"outlinewidth\":0,\"ticks\":\"\"}}],\"scatter\":[{\"fillpattern\":{\"fillmode\":\"overlay\",\"size\":10,\"solidity\":0.2},\"type\":\"scatter\"}],\"parcoords\":[{\"type\":\"parcoords\",\"line\":{\"colorbar\":{\"outlinewidth\":0,\"ticks\":\"\"}}}],\"scatterpolargl\":[{\"type\":\"scatterpolargl\",\"marker\":{\"colorbar\":{\"outlinewidth\":0,\"ticks\":\"\"}}}],\"bar\":[{\"error_x\":{\"color\":\"#2a3f5f\"},\"error_y\":{\"color\":\"#2a3f5f\"},\"marker\":{\"line\":{\"color\":\"#E5ECF6\",\"width\":0.5},\"pattern\":{\"fillmode\":\"overlay\",\"size\":10,\"solidity\":0.2}},\"type\":\"bar\"}],\"scattergeo\":[{\"type\":\"scattergeo\",\"marker\":{\"colorbar\":{\"outlinewidth\":0,\"ticks\":\"\"}}}],\"scatterpolar\":[{\"type\":\"scatterpolar\",\"marker\":{\"colorbar\":{\"outlinewidth\":0,\"ticks\":\"\"}}}],\"histogram\":[{\"marker\":{\"pattern\":{\"fillmode\":\"overlay\",\"size\":10,\"solidity\":0.2}},\"type\":\"histogram\"}],\"scattergl\":[{\"type\":\"scattergl\",\"marker\":{\"colorbar\":{\"outlinewidth\":0,\"ticks\":\"\"}}}],\"scatter3d\":[{\"type\":\"scatter3d\",\"line\":{\"colorbar\":{\"outlinewidth\":0,\"ticks\":\"\"}},\"marker\":{\"colorbar\":{\"outlinewidth\":0,\"ticks\":\"\"}}}],\"scattermapbox\":[{\"type\":\"scattermapbox\",\"marker\":{\"colorbar\":{\"outlinewidth\":0,\"ticks\":\"\"}}}],\"scatterternary\":[{\"type\":\"scatterternary\",\"marker\":{\"colorbar\":{\"outlinewidth\":0,\"ticks\":\"\"}}}],\"scattercarpet\":[{\"type\":\"scattercarpet\",\"marker\":{\"colorbar\":{\"outlinewidth\":0,\"ticks\":\"\"}}}],\"carpet\":[{\"aaxis\":{\"endlinecolor\":\"#2a3f5f\",\"gridcolor\":\"white\",\"linecolor\":\"white\",\"minorgridcolor\":\"white\",\"startlinecolor\":\"#2a3f5f\"},\"baxis\":{\"endlinecolor\":\"#2a3f5f\",\"gridcolor\":\"white\",\"linecolor\":\"white\",\"minorgridcolor\":\"white\",\"startlinecolor\":\"#2a3f5f\"},\"type\":\"carpet\"}],\"table\":[{\"cells\":{\"fill\":{\"color\":\"#EBF0F8\"},\"line\":{\"color\":\"white\"}},\"header\":{\"fill\":{\"color\":\"#C8D4E3\"},\"line\":{\"color\":\"white\"}},\"type\":\"table\"}],\"barpolar\":[{\"marker\":{\"line\":{\"color\":\"#E5ECF6\",\"width\":0.5},\"pattern\":{\"fillmode\":\"overlay\",\"size\":10,\"solidity\":0.2}},\"type\":\"barpolar\"}],\"pie\":[{\"automargin\":true,\"type\":\"pie\"}]},\"layout\":{\"autotypenumbers\":\"strict\",\"colorway\":[\"#636efa\",\"#EF553B\",\"#00cc96\",\"#ab63fa\",\"#FFA15A\",\"#19d3f3\",\"#FF6692\",\"#B6E880\",\"#FF97FF\",\"#FECB52\"],\"font\":{\"color\":\"#2a3f5f\"},\"hovermode\":\"closest\",\"hoverlabel\":{\"align\":\"left\"},\"paper_bgcolor\":\"white\",\"plot_bgcolor\":\"#E5ECF6\",\"polar\":{\"bgcolor\":\"#E5ECF6\",\"angularaxis\":{\"gridcolor\":\"white\",\"linecolor\":\"white\",\"ticks\":\"\"},\"radialaxis\":{\"gridcolor\":\"white\",\"linecolor\":\"white\",\"ticks\":\"\"}},\"ternary\":{\"bgcolor\":\"#E5ECF6\",\"aaxis\":{\"gridcolor\":\"white\",\"linecolor\":\"white\",\"ticks\":\"\"},\"baxis\":{\"gridcolor\":\"white\",\"linecolor\":\"white\",\"ticks\":\"\"},\"caxis\":{\"gridcolor\":\"white\",\"linecolor\":\"white\",\"ticks\":\"\"}},\"coloraxis\":{\"colorbar\":{\"outlinewidth\":0,\"ticks\":\"\"}},\"colorscale\":{\"sequential\":[[0.0,\"#0d0887\"],[0.1111111111111111,\"#46039f\"],[0.2222222222222222,\"#7201a8\"],[0.3333333333333333,\"#9c179e\"],[0.4444444444444444,\"#bd3786\"],[0.5555555555555556,\"#d8576b\"],[0.6666666666666666,\"#ed7953\"],[0.7777777777777778,\"#fb9f3a\"],[0.8888888888888888,\"#fdca26\"],[1.0,\"#f0f921\"]],\"sequentialminus\":[[0.0,\"#0d0887\"],[0.1111111111111111,\"#46039f\"],[0.2222222222222222,\"#7201a8\"],[0.3333333333333333,\"#9c179e\"],[0.4444444444444444,\"#bd3786\"],[0.5555555555555556,\"#d8576b\"],[0.6666666666666666,\"#ed7953\"],[0.7777777777777778,\"#fb9f3a\"],[0.8888888888888888,\"#fdca26\"],[1.0,\"#f0f921\"]],\"diverging\":[[0,\"#8e0152\"],[0.1,\"#c51b7d\"],[0.2,\"#de77ae\"],[0.3,\"#f1b6da\"],[0.4,\"#fde0ef\"],[0.5,\"#f7f7f7\"],[0.6,\"#e6f5d0\"],[0.7,\"#b8e186\"],[0.8,\"#7fbc41\"],[0.9,\"#4d9221\"],[1,\"#276419\"]]},\"xaxis\":{\"gridcolor\":\"white\",\"linecolor\":\"white\",\"ticks\":\"\",\"title\":{\"standoff\":15},\"zerolinecolor\":\"white\",\"automargin\":true,\"zerolinewidth\":2},\"yaxis\":{\"gridcolor\":\"white\",\"linecolor\":\"white\",\"ticks\":\"\",\"title\":{\"standoff\":15},\"zerolinecolor\":\"white\",\"automargin\":true,\"zerolinewidth\":2},\"scene\":{\"xaxis\":{\"backgroundcolor\":\"#E5ECF6\",\"gridcolor\":\"white\",\"linecolor\":\"white\",\"showbackground\":true,\"ticks\":\"\",\"zerolinecolor\":\"white\",\"gridwidth\":2},\"yaxis\":{\"backgroundcolor\":\"#E5ECF6\",\"gridcolor\":\"white\",\"linecolor\":\"white\",\"showbackground\":true,\"ticks\":\"\",\"zerolinecolor\":\"white\",\"gridwidth\":2},\"zaxis\":{\"backgroundcolor\":\"#E5ECF6\",\"gridcolor\":\"white\",\"linecolor\":\"white\",\"showbackground\":true,\"ticks\":\"\",\"zerolinecolor\":\"white\",\"gridwidth\":2}},\"shapedefaults\":{\"line\":{\"color\":\"#2a3f5f\"}},\"annotationdefaults\":{\"arrowcolor\":\"#2a3f5f\",\"arrowhead\":0,\"arrowwidth\":1},\"geo\":{\"bgcolor\":\"white\",\"landcolor\":\"#E5ECF6\",\"subunitcolor\":\"white\",\"showland\":true,\"showlakes\":true,\"lakecolor\":\"white\"},\"title\":{\"x\":0.05},\"mapbox\":{\"style\":\"light\"}}}},                        {\"responsive\": true}                    ).then(function(){\n",
              "                            \n",
              "var gd = document.getElementById('69c81d62-629f-421b-89fd-4d15de9d2451');\n",
              "var x = new MutationObserver(function (mutations, observer) {{\n",
              "        var display = window.getComputedStyle(gd).display;\n",
              "        if (!display || display === 'none') {{\n",
              "            console.log([gd, 'removed!']);\n",
              "            Plotly.purge(gd);\n",
              "            observer.disconnect();\n",
              "        }}\n",
              "}});\n",
              "\n",
              "// Listen for the removal of the full notebook cells\n",
              "var notebookContainer = gd.closest('#notebook-container');\n",
              "if (notebookContainer) {{\n",
              "    x.observe(notebookContainer, {childList: true});\n",
              "}}\n",
              "\n",
              "// Listen for the clearing of the current output cell\n",
              "var outputEl = gd.closest('.output');\n",
              "if (outputEl) {{\n",
              "    x.observe(outputEl, {childList: true});\n",
              "}}\n",
              "\n",
              "                        })                };                            </script>        </div>\n",
              "</body>\n",
              "</html>"
            ]
          },
          "metadata": {}
        }
      ]
    },
    {
      "cell_type": "code",
      "source": [
        "# Train the final model with the best parameters found by Optuna\n",
        "best_params = study.best_params  # Get the best parameters from the study\n",
        "\n",
        "final_model = XGBRegressor(\n",
        "    objective='reg:squarederror',\n",
        "    eval_metric='rmse',\n",
        "    use_label_encoder=False,\n",
        "    **best_params,\n",
        "    n_jobs=-1,\n",
        "    random_state=42\n",
        ")\n",
        "\n",
        "# Train the model on the entire training data (X_train, y_train)\n",
        "final_model.fit(X_train, y_train)\n"
      ],
      "metadata": {
        "colab": {
          "base_uri": "https://localhost:8080/",
          "height": 257
        },
        "id": "YS5R73tkkBhq",
        "outputId": "1d6a2946-0a1e-444a-bef5-405061075440"
      },
      "execution_count": 129,
      "outputs": [
        {
          "output_type": "execute_result",
          "data": {
            "text/plain": [
              "XGBRegressor(alpha=0.3710483686967372, base_score=None, booster=None,\n",
              "             callbacks=None, colsample_bylevel=None, colsample_bynode=None,\n",
              "             colsample_bytree=0.7307654957712623, device=None,\n",
              "             early_stopping_rounds=None, enable_categorical=False,\n",
              "             eval_metric='rmse', feature_types=None, gamma=0.74183165927942,\n",
              "             grow_policy=None, importance_type=None,\n",
              "             interaction_constraints=None, lambda=0.8956182701348135,\n",
              "             learning_rate=0.017962744721141434, max_bin=None,\n",
              "             max_cat_threshold=None, max_cat_to_onehot=None,\n",
              "             max_delta_step=None, max_depth=10, max_leaves=None,\n",
              "             min_child_weight=5, missing=nan, monotone_constraints=None,\n",
              "             multi_strategy=None, n_estimators=712, n_jobs=-1, ...)"
            ],
            "text/html": [
              "<style>#sk-container-id-1 {\n",
              "  /* Definition of color scheme common for light and dark mode */\n",
              "  --sklearn-color-text: black;\n",
              "  --sklearn-color-line: gray;\n",
              "  /* Definition of color scheme for unfitted estimators */\n",
              "  --sklearn-color-unfitted-level-0: #fff5e6;\n",
              "  --sklearn-color-unfitted-level-1: #f6e4d2;\n",
              "  --sklearn-color-unfitted-level-2: #ffe0b3;\n",
              "  --sklearn-color-unfitted-level-3: chocolate;\n",
              "  /* Definition of color scheme for fitted estimators */\n",
              "  --sklearn-color-fitted-level-0: #f0f8ff;\n",
              "  --sklearn-color-fitted-level-1: #d4ebff;\n",
              "  --sklearn-color-fitted-level-2: #b3dbfd;\n",
              "  --sklearn-color-fitted-level-3: cornflowerblue;\n",
              "\n",
              "  /* Specific color for light theme */\n",
              "  --sklearn-color-text-on-default-background: var(--sg-text-color, var(--theme-code-foreground, var(--jp-content-font-color1, black)));\n",
              "  --sklearn-color-background: var(--sg-background-color, var(--theme-background, var(--jp-layout-color0, white)));\n",
              "  --sklearn-color-border-box: var(--sg-text-color, var(--theme-code-foreground, var(--jp-content-font-color1, black)));\n",
              "  --sklearn-color-icon: #696969;\n",
              "\n",
              "  @media (prefers-color-scheme: dark) {\n",
              "    /* Redefinition of color scheme for dark theme */\n",
              "    --sklearn-color-text-on-default-background: var(--sg-text-color, var(--theme-code-foreground, var(--jp-content-font-color1, white)));\n",
              "    --sklearn-color-background: var(--sg-background-color, var(--theme-background, var(--jp-layout-color0, #111)));\n",
              "    --sklearn-color-border-box: var(--sg-text-color, var(--theme-code-foreground, var(--jp-content-font-color1, white)));\n",
              "    --sklearn-color-icon: #878787;\n",
              "  }\n",
              "}\n",
              "\n",
              "#sk-container-id-1 {\n",
              "  color: var(--sklearn-color-text);\n",
              "}\n",
              "\n",
              "#sk-container-id-1 pre {\n",
              "  padding: 0;\n",
              "}\n",
              "\n",
              "#sk-container-id-1 input.sk-hidden--visually {\n",
              "  border: 0;\n",
              "  clip: rect(1px 1px 1px 1px);\n",
              "  clip: rect(1px, 1px, 1px, 1px);\n",
              "  height: 1px;\n",
              "  margin: -1px;\n",
              "  overflow: hidden;\n",
              "  padding: 0;\n",
              "  position: absolute;\n",
              "  width: 1px;\n",
              "}\n",
              "\n",
              "#sk-container-id-1 div.sk-dashed-wrapped {\n",
              "  border: 1px dashed var(--sklearn-color-line);\n",
              "  margin: 0 0.4em 0.5em 0.4em;\n",
              "  box-sizing: border-box;\n",
              "  padding-bottom: 0.4em;\n",
              "  background-color: var(--sklearn-color-background);\n",
              "}\n",
              "\n",
              "#sk-container-id-1 div.sk-container {\n",
              "  /* jupyter's `normalize.less` sets `[hidden] { display: none; }`\n",
              "     but bootstrap.min.css set `[hidden] { display: none !important; }`\n",
              "     so we also need the `!important` here to be able to override the\n",
              "     default hidden behavior on the sphinx rendered scikit-learn.org.\n",
              "     See: https://github.com/scikit-learn/scikit-learn/issues/21755 */\n",
              "  display: inline-block !important;\n",
              "  position: relative;\n",
              "}\n",
              "\n",
              "#sk-container-id-1 div.sk-text-repr-fallback {\n",
              "  display: none;\n",
              "}\n",
              "\n",
              "div.sk-parallel-item,\n",
              "div.sk-serial,\n",
              "div.sk-item {\n",
              "  /* draw centered vertical line to link estimators */\n",
              "  background-image: linear-gradient(var(--sklearn-color-text-on-default-background), var(--sklearn-color-text-on-default-background));\n",
              "  background-size: 2px 100%;\n",
              "  background-repeat: no-repeat;\n",
              "  background-position: center center;\n",
              "}\n",
              "\n",
              "/* Parallel-specific style estimator block */\n",
              "\n",
              "#sk-container-id-1 div.sk-parallel-item::after {\n",
              "  content: \"\";\n",
              "  width: 100%;\n",
              "  border-bottom: 2px solid var(--sklearn-color-text-on-default-background);\n",
              "  flex-grow: 1;\n",
              "}\n",
              "\n",
              "#sk-container-id-1 div.sk-parallel {\n",
              "  display: flex;\n",
              "  align-items: stretch;\n",
              "  justify-content: center;\n",
              "  background-color: var(--sklearn-color-background);\n",
              "  position: relative;\n",
              "}\n",
              "\n",
              "#sk-container-id-1 div.sk-parallel-item {\n",
              "  display: flex;\n",
              "  flex-direction: column;\n",
              "}\n",
              "\n",
              "#sk-container-id-1 div.sk-parallel-item:first-child::after {\n",
              "  align-self: flex-end;\n",
              "  width: 50%;\n",
              "}\n",
              "\n",
              "#sk-container-id-1 div.sk-parallel-item:last-child::after {\n",
              "  align-self: flex-start;\n",
              "  width: 50%;\n",
              "}\n",
              "\n",
              "#sk-container-id-1 div.sk-parallel-item:only-child::after {\n",
              "  width: 0;\n",
              "}\n",
              "\n",
              "/* Serial-specific style estimator block */\n",
              "\n",
              "#sk-container-id-1 div.sk-serial {\n",
              "  display: flex;\n",
              "  flex-direction: column;\n",
              "  align-items: center;\n",
              "  background-color: var(--sklearn-color-background);\n",
              "  padding-right: 1em;\n",
              "  padding-left: 1em;\n",
              "}\n",
              "\n",
              "\n",
              "/* Toggleable style: style used for estimator/Pipeline/ColumnTransformer box that is\n",
              "clickable and can be expanded/collapsed.\n",
              "- Pipeline and ColumnTransformer use this feature and define the default style\n",
              "- Estimators will overwrite some part of the style using the `sk-estimator` class\n",
              "*/\n",
              "\n",
              "/* Pipeline and ColumnTransformer style (default) */\n",
              "\n",
              "#sk-container-id-1 div.sk-toggleable {\n",
              "  /* Default theme specific background. It is overwritten whether we have a\n",
              "  specific estimator or a Pipeline/ColumnTransformer */\n",
              "  background-color: var(--sklearn-color-background);\n",
              "}\n",
              "\n",
              "/* Toggleable label */\n",
              "#sk-container-id-1 label.sk-toggleable__label {\n",
              "  cursor: pointer;\n",
              "  display: block;\n",
              "  width: 100%;\n",
              "  margin-bottom: 0;\n",
              "  padding: 0.5em;\n",
              "  box-sizing: border-box;\n",
              "  text-align: center;\n",
              "}\n",
              "\n",
              "#sk-container-id-1 label.sk-toggleable__label-arrow:before {\n",
              "  /* Arrow on the left of the label */\n",
              "  content: \"▸\";\n",
              "  float: left;\n",
              "  margin-right: 0.25em;\n",
              "  color: var(--sklearn-color-icon);\n",
              "}\n",
              "\n",
              "#sk-container-id-1 label.sk-toggleable__label-arrow:hover:before {\n",
              "  color: var(--sklearn-color-text);\n",
              "}\n",
              "\n",
              "/* Toggleable content - dropdown */\n",
              "\n",
              "#sk-container-id-1 div.sk-toggleable__content {\n",
              "  max-height: 0;\n",
              "  max-width: 0;\n",
              "  overflow: hidden;\n",
              "  text-align: left;\n",
              "  /* unfitted */\n",
              "  background-color: var(--sklearn-color-unfitted-level-0);\n",
              "}\n",
              "\n",
              "#sk-container-id-1 div.sk-toggleable__content.fitted {\n",
              "  /* fitted */\n",
              "  background-color: var(--sklearn-color-fitted-level-0);\n",
              "}\n",
              "\n",
              "#sk-container-id-1 div.sk-toggleable__content pre {\n",
              "  margin: 0.2em;\n",
              "  border-radius: 0.25em;\n",
              "  color: var(--sklearn-color-text);\n",
              "  /* unfitted */\n",
              "  background-color: var(--sklearn-color-unfitted-level-0);\n",
              "}\n",
              "\n",
              "#sk-container-id-1 div.sk-toggleable__content.fitted pre {\n",
              "  /* unfitted */\n",
              "  background-color: var(--sklearn-color-fitted-level-0);\n",
              "}\n",
              "\n",
              "#sk-container-id-1 input.sk-toggleable__control:checked~div.sk-toggleable__content {\n",
              "  /* Expand drop-down */\n",
              "  max-height: 200px;\n",
              "  max-width: 100%;\n",
              "  overflow: auto;\n",
              "}\n",
              "\n",
              "#sk-container-id-1 input.sk-toggleable__control:checked~label.sk-toggleable__label-arrow:before {\n",
              "  content: \"▾\";\n",
              "}\n",
              "\n",
              "/* Pipeline/ColumnTransformer-specific style */\n",
              "\n",
              "#sk-container-id-1 div.sk-label input.sk-toggleable__control:checked~label.sk-toggleable__label {\n",
              "  color: var(--sklearn-color-text);\n",
              "  background-color: var(--sklearn-color-unfitted-level-2);\n",
              "}\n",
              "\n",
              "#sk-container-id-1 div.sk-label.fitted input.sk-toggleable__control:checked~label.sk-toggleable__label {\n",
              "  background-color: var(--sklearn-color-fitted-level-2);\n",
              "}\n",
              "\n",
              "/* Estimator-specific style */\n",
              "\n",
              "/* Colorize estimator box */\n",
              "#sk-container-id-1 div.sk-estimator input.sk-toggleable__control:checked~label.sk-toggleable__label {\n",
              "  /* unfitted */\n",
              "  background-color: var(--sklearn-color-unfitted-level-2);\n",
              "}\n",
              "\n",
              "#sk-container-id-1 div.sk-estimator.fitted input.sk-toggleable__control:checked~label.sk-toggleable__label {\n",
              "  /* fitted */\n",
              "  background-color: var(--sklearn-color-fitted-level-2);\n",
              "}\n",
              "\n",
              "#sk-container-id-1 div.sk-label label.sk-toggleable__label,\n",
              "#sk-container-id-1 div.sk-label label {\n",
              "  /* The background is the default theme color */\n",
              "  color: var(--sklearn-color-text-on-default-background);\n",
              "}\n",
              "\n",
              "/* On hover, darken the color of the background */\n",
              "#sk-container-id-1 div.sk-label:hover label.sk-toggleable__label {\n",
              "  color: var(--sklearn-color-text);\n",
              "  background-color: var(--sklearn-color-unfitted-level-2);\n",
              "}\n",
              "\n",
              "/* Label box, darken color on hover, fitted */\n",
              "#sk-container-id-1 div.sk-label.fitted:hover label.sk-toggleable__label.fitted {\n",
              "  color: var(--sklearn-color-text);\n",
              "  background-color: var(--sklearn-color-fitted-level-2);\n",
              "}\n",
              "\n",
              "/* Estimator label */\n",
              "\n",
              "#sk-container-id-1 div.sk-label label {\n",
              "  font-family: monospace;\n",
              "  font-weight: bold;\n",
              "  display: inline-block;\n",
              "  line-height: 1.2em;\n",
              "}\n",
              "\n",
              "#sk-container-id-1 div.sk-label-container {\n",
              "  text-align: center;\n",
              "}\n",
              "\n",
              "/* Estimator-specific */\n",
              "#sk-container-id-1 div.sk-estimator {\n",
              "  font-family: monospace;\n",
              "  border: 1px dotted var(--sklearn-color-border-box);\n",
              "  border-radius: 0.25em;\n",
              "  box-sizing: border-box;\n",
              "  margin-bottom: 0.5em;\n",
              "  /* unfitted */\n",
              "  background-color: var(--sklearn-color-unfitted-level-0);\n",
              "}\n",
              "\n",
              "#sk-container-id-1 div.sk-estimator.fitted {\n",
              "  /* fitted */\n",
              "  background-color: var(--sklearn-color-fitted-level-0);\n",
              "}\n",
              "\n",
              "/* on hover */\n",
              "#sk-container-id-1 div.sk-estimator:hover {\n",
              "  /* unfitted */\n",
              "  background-color: var(--sklearn-color-unfitted-level-2);\n",
              "}\n",
              "\n",
              "#sk-container-id-1 div.sk-estimator.fitted:hover {\n",
              "  /* fitted */\n",
              "  background-color: var(--sklearn-color-fitted-level-2);\n",
              "}\n",
              "\n",
              "/* Specification for estimator info (e.g. \"i\" and \"?\") */\n",
              "\n",
              "/* Common style for \"i\" and \"?\" */\n",
              "\n",
              ".sk-estimator-doc-link,\n",
              "a:link.sk-estimator-doc-link,\n",
              "a:visited.sk-estimator-doc-link {\n",
              "  float: right;\n",
              "  font-size: smaller;\n",
              "  line-height: 1em;\n",
              "  font-family: monospace;\n",
              "  background-color: var(--sklearn-color-background);\n",
              "  border-radius: 1em;\n",
              "  height: 1em;\n",
              "  width: 1em;\n",
              "  text-decoration: none !important;\n",
              "  margin-left: 1ex;\n",
              "  /* unfitted */\n",
              "  border: var(--sklearn-color-unfitted-level-1) 1pt solid;\n",
              "  color: var(--sklearn-color-unfitted-level-1);\n",
              "}\n",
              "\n",
              ".sk-estimator-doc-link.fitted,\n",
              "a:link.sk-estimator-doc-link.fitted,\n",
              "a:visited.sk-estimator-doc-link.fitted {\n",
              "  /* fitted */\n",
              "  border: var(--sklearn-color-fitted-level-1) 1pt solid;\n",
              "  color: var(--sklearn-color-fitted-level-1);\n",
              "}\n",
              "\n",
              "/* On hover */\n",
              "div.sk-estimator:hover .sk-estimator-doc-link:hover,\n",
              ".sk-estimator-doc-link:hover,\n",
              "div.sk-label-container:hover .sk-estimator-doc-link:hover,\n",
              ".sk-estimator-doc-link:hover {\n",
              "  /* unfitted */\n",
              "  background-color: var(--sklearn-color-unfitted-level-3);\n",
              "  color: var(--sklearn-color-background);\n",
              "  text-decoration: none;\n",
              "}\n",
              "\n",
              "div.sk-estimator.fitted:hover .sk-estimator-doc-link.fitted:hover,\n",
              ".sk-estimator-doc-link.fitted:hover,\n",
              "div.sk-label-container:hover .sk-estimator-doc-link.fitted:hover,\n",
              ".sk-estimator-doc-link.fitted:hover {\n",
              "  /* fitted */\n",
              "  background-color: var(--sklearn-color-fitted-level-3);\n",
              "  color: var(--sklearn-color-background);\n",
              "  text-decoration: none;\n",
              "}\n",
              "\n",
              "/* Span, style for the box shown on hovering the info icon */\n",
              ".sk-estimator-doc-link span {\n",
              "  display: none;\n",
              "  z-index: 9999;\n",
              "  position: relative;\n",
              "  font-weight: normal;\n",
              "  right: .2ex;\n",
              "  padding: .5ex;\n",
              "  margin: .5ex;\n",
              "  width: min-content;\n",
              "  min-width: 20ex;\n",
              "  max-width: 50ex;\n",
              "  color: var(--sklearn-color-text);\n",
              "  box-shadow: 2pt 2pt 4pt #999;\n",
              "  /* unfitted */\n",
              "  background: var(--sklearn-color-unfitted-level-0);\n",
              "  border: .5pt solid var(--sklearn-color-unfitted-level-3);\n",
              "}\n",
              "\n",
              ".sk-estimator-doc-link.fitted span {\n",
              "  /* fitted */\n",
              "  background: var(--sklearn-color-fitted-level-0);\n",
              "  border: var(--sklearn-color-fitted-level-3);\n",
              "}\n",
              "\n",
              ".sk-estimator-doc-link:hover span {\n",
              "  display: block;\n",
              "}\n",
              "\n",
              "/* \"?\"-specific style due to the `<a>` HTML tag */\n",
              "\n",
              "#sk-container-id-1 a.estimator_doc_link {\n",
              "  float: right;\n",
              "  font-size: 1rem;\n",
              "  line-height: 1em;\n",
              "  font-family: monospace;\n",
              "  background-color: var(--sklearn-color-background);\n",
              "  border-radius: 1rem;\n",
              "  height: 1rem;\n",
              "  width: 1rem;\n",
              "  text-decoration: none;\n",
              "  /* unfitted */\n",
              "  color: var(--sklearn-color-unfitted-level-1);\n",
              "  border: var(--sklearn-color-unfitted-level-1) 1pt solid;\n",
              "}\n",
              "\n",
              "#sk-container-id-1 a.estimator_doc_link.fitted {\n",
              "  /* fitted */\n",
              "  border: var(--sklearn-color-fitted-level-1) 1pt solid;\n",
              "  color: var(--sklearn-color-fitted-level-1);\n",
              "}\n",
              "\n",
              "/* On hover */\n",
              "#sk-container-id-1 a.estimator_doc_link:hover {\n",
              "  /* unfitted */\n",
              "  background-color: var(--sklearn-color-unfitted-level-3);\n",
              "  color: var(--sklearn-color-background);\n",
              "  text-decoration: none;\n",
              "}\n",
              "\n",
              "#sk-container-id-1 a.estimator_doc_link.fitted:hover {\n",
              "  /* fitted */\n",
              "  background-color: var(--sklearn-color-fitted-level-3);\n",
              "}\n",
              "</style><div id=\"sk-container-id-1\" class=\"sk-top-container\"><div class=\"sk-text-repr-fallback\"><pre>XGBRegressor(alpha=0.3710483686967372, base_score=None, booster=None,\n",
              "             callbacks=None, colsample_bylevel=None, colsample_bynode=None,\n",
              "             colsample_bytree=0.7307654957712623, device=None,\n",
              "             early_stopping_rounds=None, enable_categorical=False,\n",
              "             eval_metric=&#x27;rmse&#x27;, feature_types=None, gamma=0.74183165927942,\n",
              "             grow_policy=None, importance_type=None,\n",
              "             interaction_constraints=None, lambda=0.8956182701348135,\n",
              "             learning_rate=0.017962744721141434, max_bin=None,\n",
              "             max_cat_threshold=None, max_cat_to_onehot=None,\n",
              "             max_delta_step=None, max_depth=10, max_leaves=None,\n",
              "             min_child_weight=5, missing=nan, monotone_constraints=None,\n",
              "             multi_strategy=None, n_estimators=712, n_jobs=-1, ...)</pre><b>In a Jupyter environment, please rerun this cell to show the HTML representation or trust the notebook. <br />On GitHub, the HTML representation is unable to render, please try loading this page with nbviewer.org.</b></div><div class=\"sk-container\" hidden><div class=\"sk-item\"><div class=\"sk-estimator fitted sk-toggleable\"><input class=\"sk-toggleable__control sk-hidden--visually\" id=\"sk-estimator-id-1\" type=\"checkbox\" checked><label for=\"sk-estimator-id-1\" class=\"sk-toggleable__label fitted sk-toggleable__label-arrow fitted\">&nbsp;XGBRegressor<span class=\"sk-estimator-doc-link fitted\">i<span>Fitted</span></span></label><div class=\"sk-toggleable__content fitted\"><pre>XGBRegressor(alpha=0.3710483686967372, base_score=None, booster=None,\n",
              "             callbacks=None, colsample_bylevel=None, colsample_bynode=None,\n",
              "             colsample_bytree=0.7307654957712623, device=None,\n",
              "             early_stopping_rounds=None, enable_categorical=False,\n",
              "             eval_metric=&#x27;rmse&#x27;, feature_types=None, gamma=0.74183165927942,\n",
              "             grow_policy=None, importance_type=None,\n",
              "             interaction_constraints=None, lambda=0.8956182701348135,\n",
              "             learning_rate=0.017962744721141434, max_bin=None,\n",
              "             max_cat_threshold=None, max_cat_to_onehot=None,\n",
              "             max_delta_step=None, max_depth=10, max_leaves=None,\n",
              "             min_child_weight=5, missing=nan, monotone_constraints=None,\n",
              "             multi_strategy=None, n_estimators=712, n_jobs=-1, ...)</pre></div> </div></div></div></div>"
            ]
          },
          "metadata": {},
          "execution_count": 129
        }
      ]
    },
    {
      "cell_type": "markdown",
      "source": [],
      "metadata": {
        "id": "XApJ8FkUdGRP"
      }
    },
    {
      "cell_type": "code",
      "source": [],
      "metadata": {
        "id": "tATwGJE0EVQZ"
      },
      "execution_count": null,
      "outputs": []
    },
    {
      "cell_type": "code",
      "execution_count": 122,
      "metadata": {
        "id": "6YbrsfM-GmVq",
        "colab": {
          "base_uri": "https://localhost:8080/"
        },
        "outputId": "95b85bd5-1eee-4a02-cdbd-8f7d057c9fa5"
      },
      "outputs": [
        {
          "output_type": "stream",
          "name": "stdout",
          "text": [
            "Index(['counter_id', 'counter_name', 'site_id', 'site_name', 'date',\n",
            "       'counter_installation_date', 'coordinates', 'counter_technical_id',\n",
            "       'latitude', 'longitude'],\n",
            "      dtype='object')\n",
            "Updated test data:\n",
            "      year  month  day  weekday  hour  holiday  workday  season  is_weekend  \\\n",
            "0     2021      9   10        4     1        0        1       3           0   \n",
            "719   2021      9   10        4    13        0        1       3           0   \n",
            "925   2021      9   10        4    17        0        1       3           0   \n",
            "1012  2021      9   10        4    19        0        1       3           0   \n",
            "1184  2021      9   10        4    22        0        1       3           0   \n",
            "\n",
            "      day_period  installation_age_days   latitude  longitude  coordinates  \\\n",
            "0              3                   3157  48.846028   2.375429           10   \n",
            "719            0                   3157  48.846028   2.375429           10   \n",
            "925            0                   3157  48.846028   2.375429           10   \n",
            "1012           1                   3157  48.846028   2.375429           10   \n",
            "1184           1                   3157  48.846028   2.375429           10   \n",
            "\n",
            "      distance_to_center  location_type  temperature_c  is_hot  is_cold  \\\n",
            "0               2.070853              1           18.3       0        0   \n",
            "719             2.070853              1           20.9       1        0   \n",
            "925             2.070853              1           23.2       1        0   \n",
            "1012            2.070853              1           20.5       1        0   \n",
            "1184            2.070853              1           18.1       0        0   \n",
            "\n",
            "      is_rainy  is_windy  low_visibility  total_precipitation_24h  bad_weather  \n",
            "0            0         0               0                      1.2            0  \n",
            "719          1         0               0                      8.6            1  \n",
            "925          0         0               0                      7.0            0  \n",
            "1012         1         0               0                      8.4            1  \n",
            "1184         0         0               0                     12.8            0  \n"
          ]
        }
      ],
      "source": [
        "test_path='data/final_test.parquet'\n",
        "test_data = pd.read_parquet(Path(test_path))\n",
        "print(test_data.columns)\n",
        "test_data = external_data.example_estimator._merge_external_data(test_data)\n",
        "test_data = external_data.example_estimator._encode_dates(test_data)\n",
        "\n",
        "df=test_data\n",
        "# Feature Engineering Example\n",
        "df['is_weekend'] = df['weekday'].isin([5, 6]).astype(int)\n",
        "df['day_period'] = pd.cut(df['hour'], bins=[0, 6, 12, 18, 24], labels=['Night', 'Morning', 'Afternoon', 'Evening'])\n",
        "df['installation_age_days'] = (pd.to_datetime(df['date']) - pd.to_datetime(df['counter_installation_date'])).dt.days\n",
        "\n",
        "# Dropping Less Relevant Features\n",
        "df = df.drop(columns=['counter_name', 'site_name', 'week_of_month'])\n",
        "from geopy.distance import distance\n",
        "\n",
        "# Coordinates of Paris city center\n",
        "city_center = (48.8566, 2.3522)\n",
        "\n",
        "# Add a new column 'distance_to_center' to the DataFrame\n",
        "df['distance_to_center'] = df.apply(\n",
        "    lambda row: distance(city_center, (row['latitude'], row['longitude'])).km,\n",
        "    axis=1\n",
        ")\n",
        "from sklearn.cluster import KMeans\n",
        "kmeans = KMeans(n_clusters=2)\n",
        "df['location_type'] = kmeans.fit_predict(df[['latitude', 'longitude']])\n",
        "df['is_rainy'] = (df['rr1'] > 0).astype(int)\n",
        "df['is_windy'] = (df['ff'] > 8).astype(int)\n",
        "df['low_visibility'] = (df['vv'] < 1000).astype(int)\n",
        "df['total_precipitation_24h'] = df[['rr1', 'rr3', 'rr6', 'rr12', 'rr24']].sum(axis=1)\n",
        "\n",
        "df['temperature_c'] = df['t'] - 273.15  # Kelvin to Celsius conversion\n",
        "df['is_hot'] = (df['temperature_c'] > 20).astype(int)  # Indicates hot weather\n",
        "df['is_cold'] = (df['temperature_c'] < 5).astype(int)   # Indicates cold weather\n",
        "df['is_snowy'] = (df['temperature_c'] < 0).astype(int)\n",
        "df['bad_weather'] = ((df['is_rainy'] == 1) | (df['is_snowy'] == 1) | (df['low_visibility'] == 1)).astype(int)\n",
        "\n",
        "\n",
        "\n",
        "# Exclude 'bike_count' and 'log_bike_count' from the columns of train_data_cleaned\n",
        "columns_to_keep = selected_features\n",
        "\n",
        "# Filter test_data to include only these columns\n",
        "test_data = df[columns_to_keep]\n",
        "test_data_cleaned = handle_missing_and_infs(test_data)\n",
        "\n",
        "\n",
        "# Load the label encoders from the saved pickle file\n",
        "with open('label_encoders.pkl', 'rb') as f:\n",
        "    label_encoders = pickle.load(f)\n",
        "\n",
        "# Apply the label encoders to the test data\n",
        "test_data_cleaned = test_data_cleaned.copy()\n",
        "\n",
        "# Iterate through each categorical column in the test data\n",
        "for col in test_data_cleaned.columns:\n",
        "    if col in label_encoders:  # Check if the column was part of the training data encoding\n",
        "        # Check if the column contains any missing values and handle them (if necessary)\n",
        "        test_data_cleaned[col] = test_data_cleaned[col].astype(str)\n",
        "        test_data_cleaned[col] = label_encoders[col].transform(test_data_cleaned[col])\n",
        "\n",
        "# Check the updated test data\n",
        "print(\"Updated test data:\")\n",
        "print(test_data_cleaned.head())\n",
        "\n",
        "\n",
        "# # Identify numeric columns in the test data\n",
        "# numeric_cols_test = test_data_cleaned.select_dtypes(include=['float64', 'int64']).columns\n",
        "\n",
        "# # Initialize the scaler (using the one fitted on the training data)\n",
        "# scaled_test_data = scaler.transform(test_data_cleaned[columns_to_scale])\n",
        "\n",
        "# # Create a new DataFrame with the scaled numeric columns for the test data\n",
        "# df_test_scaled = pd.DataFrame(scaled_test_data, columns=columns_to_scale)\n",
        "\n",
        "# # Check the scaled test data\n",
        "# print(\"Scaled test data:\")\n",
        "# print(df_test_scaled.head())\n",
        "# # Transform the scaled test data to the selected components using the fitted PCA model\n",
        "# df_pca_test = pd.DataFrame(pca_model.transform(df_test_scaled), columns=pca_columns)\n",
        "\n",
        "# # Print the resulting DataFrame with the first few rows of PCA components for the test data\n",
        "# print(\"DataFrame with 10 PCA components for test data:\")\n",
        "# print(df_pca_test.head())\n",
        "\n"
      ]
    },
    {
      "cell_type": "code",
      "source": [
        "# Ensure the test data aligns with the model's expectations\n",
        "assert all(col in test_data_cleaned.columns for col in X_train.columns), \"Test data must have the same columns as the training data.\"\n",
        "\n",
        "# Predict using the trivial XGBRegressor\n",
        "predictions = xgb_default.predict(test_data_cleaned)\n",
        "\n",
        "# Display predictions\n",
        "print(\"Predictions on test data:\")\n",
        "\n"
      ],
      "metadata": {
        "colab": {
          "base_uri": "https://localhost:8080/"
        },
        "id": "CzSE-2RGHq0i",
        "outputId": "5a2a9622-2f53-4fd1-cff4-e0dc75659288"
      },
      "execution_count": 123,
      "outputs": [
        {
          "output_type": "stream",
          "name": "stdout",
          "text": [
            "Predictions on test data:\n"
          ]
        }
      ]
    },
    {
      "cell_type": "code",
      "source": [
        "def prepare_submission(predictions):\n",
        "        \"\"\"\n",
        "        Save predictions\n",
        "        \"\"\"\n",
        "\n",
        "        submission_df = pd.DataFrame({'id': range(len(predictions)), 'log_bike_count': predictions})\n",
        "        submission_df.to_csv('seasoncsvoptuna.csv', index=False)\n",
        "        print(\"Submission created.\")"
      ],
      "metadata": {
        "id": "OcWQzkbUH1_9"
      },
      "execution_count": 131,
      "outputs": []
    },
    {
      "cell_type": "code",
      "source": [],
      "metadata": {
        "id": "yfcafAC_JPT8"
      },
      "execution_count": null,
      "outputs": []
    },
    {
      "cell_type": "code",
      "source": [
        "prepare_submission(predictions)"
      ],
      "metadata": {
        "colab": {
          "base_uri": "https://localhost:8080/"
        },
        "id": "obYAHUG4H6gm",
        "outputId": "4f155a24-26b4-45e7-94e3-dc8afc281694"
      },
      "execution_count": 125,
      "outputs": [
        {
          "output_type": "stream",
          "name": "stdout",
          "text": [
            "Submission created.\n"
          ]
        }
      ]
    },
    {
      "cell_type": "markdown",
      "source": [
        "predicting using optuna"
      ],
      "metadata": {
        "id": "ODaajPACkUWG"
      }
    },
    {
      "cell_type": "code",
      "source": [
        "# Ensure the test data aligns with the model's expectations\n",
        "assert all(col in test_data_cleaned.columns for col in X_train.columns), \"Test data must have the same columns as the training data.\"\n",
        "\n",
        "# Predict using the trivial XGBRegressor\n",
        "predictions = final_model.predict(test_data_cleaned)\n",
        "\n",
        "# Display predictions\n",
        "print(\"Predictions on test data\")"
      ],
      "metadata": {
        "colab": {
          "base_uri": "https://localhost:8080/"
        },
        "id": "p-_QguD2kVn5",
        "outputId": "7769e90e-cf2f-4893-c094-e139c9be85e8"
      },
      "execution_count": 130,
      "outputs": [
        {
          "output_type": "stream",
          "name": "stdout",
          "text": [
            "Predictions on test data:\n"
          ]
        }
      ]
    },
    {
      "cell_type": "code",
      "source": [
        "prepare_submission(predictions)"
      ],
      "metadata": {
        "colab": {
          "base_uri": "https://localhost:8080/"
        },
        "id": "2A0Hu3HWkYcz",
        "outputId": "4a8cb3a7-27e5-4446-f525-4c65699f5122"
      },
      "execution_count": 132,
      "outputs": [
        {
          "output_type": "stream",
          "name": "stdout",
          "text": [
            "Submission created.\n"
          ]
        }
      ]
    }
  ],
  "metadata": {
    "colab": {
      "provenance": []
    },
    "kernelspec": {
      "display_name": "Python 3",
      "name": "python3"
    },
    "language_info": {
      "name": "python"
    }
  },
  "nbformat": 4,
  "nbformat_minor": 0
}